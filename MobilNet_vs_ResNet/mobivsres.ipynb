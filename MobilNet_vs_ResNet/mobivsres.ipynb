{
  "nbformat": 4,
  "nbformat_minor": 0,
  "metadata": {
    "colab": {
      "name": "Untitled1.ipynb",
      "provenance": []
    },
    "kernelspec": {
      "name": "python3",
      "display_name": "Python 3"
    },
    "language_info": {
      "name": "python"
    },
    "accelerator": "GPU"
  },
  "cells": [
    {
      "cell_type": "markdown",
      "source": [
        "#Start with the data preprocessing:\n",
        "- shape = (224,224,3)\n",
        "- [Dataset](https://storage.googleapis.com/ztm_tf_course/food_vision/10_food_classes_10_percent.zip)\n",
        "\n"
      ],
      "metadata": {
        "id": "8CqWz1-QuoZ5"
      }
    },
    {
      "cell_type": "code",
      "execution_count": 1,
      "metadata": {
        "colab": {
          "base_uri": "https://localhost:8080/"
        },
        "id": "NniDdQwDmQ1L",
        "outputId": "a9b32f31-04e9-4feb-f1c6-860a235f5489"
      },
      "outputs": [
        {
          "output_type": "stream",
          "name": "stdout",
          "text": [
            "--2022-01-06 23:08:28--  https://storage.googleapis.com/ztm_tf_course/food_vision/10_food_classes_10_percent.zip\n",
            "Resolving storage.googleapis.com (storage.googleapis.com)... 64.233.188.128, 108.177.125.128, 142.250.157.128, ...\n",
            "Connecting to storage.googleapis.com (storage.googleapis.com)|64.233.188.128|:443... connected.\n",
            "HTTP request sent, awaiting response... 200 OK\n",
            "Length: 168546183 (161M) [application/zip]\n",
            "Saving to: ‘10_food_classes_10_percent.zip’\n",
            "\n",
            "10_food_classes_10_ 100%[===================>] 160.74M  35.9MB/s    in 4.5s    \n",
            "\n",
            "2022-01-06 23:08:33 (35.9 MB/s) - ‘10_food_classes_10_percent.zip’ saved [168546183/168546183]\n",
            "\n"
          ]
        }
      ],
      "source": [
        "# Get the data -For Google Colab only-\n",
        "!wget https://storage.googleapis.com/ztm_tf_course/food_vision/10_food_classes_10_percent.zip"
      ]
    },
    {
      "cell_type": "code",
      "source": [
        "# unzip the newly downloaded data\n",
        "import zipfile\n",
        "zip_reference = zipfile.ZipFile(\"10_food_classes_10_percent.zip\")\n",
        "zip_reference.extractall()\n",
        "zip_reference.close()"
      ],
      "metadata": {
        "id": "Y-BxGH6eplSt"
      },
      "execution_count": 18,
      "outputs": []
    },
    {
      "cell_type": "code",
      "source": [
        "# initialize global vairables useful for speed \n",
        "EPOCHS = 5\n",
        "SHAPE = (224, 224)"
      ],
      "metadata": {
        "id": "YgIzTDZ8qK-g"
      },
      "execution_count": 12,
      "outputs": []
    },
    {
      "cell_type": "code",
      "source": [
        "\"\"\"\n",
        "# DEBUG CODE\n",
        "import os\n",
        "# walk through data\n",
        "for dirpath, dirnames, filenames in os.walk(\"10_food_classes_10_percent\"):\n",
        "  print(f\"There are {len(dirnames)} directories, {len(filenames)} images in directory: {dirpath}\")\n",
        "\"\"\""
      ],
      "metadata": {
        "colab": {
          "base_uri": "https://localhost:8080/",
          "height": 35
        },
        "id": "DC13WRPBsiKp",
        "outputId": "a0c5de4f-31f1-4d78-a23e-f13b8b077ebe"
      },
      "execution_count": 28,
      "outputs": [
        {
          "output_type": "execute_result",
          "data": {
            "application/vnd.google.colaboratory.intrinsic+json": {
              "type": "string"
            },
            "text/plain": [
              "'\\n# DEBUG CODE\\nimport os\\n# walk through data\\nfor dirpath, dirnames, filenames in os.walk(\"10_food_classes_10_percent\"):\\n  print(f\"There are {len(dirnames)} directories, {len(filenames)} images in directory: {dirpath}\")\\n'"
            ]
          },
          "metadata": {},
          "execution_count": 28
        }
      ]
    },
    {
      "cell_type": "code",
      "source": [
        "import tensorflow as tf\n",
        "from tensorflow.keras.preprocessing.image import ImageDataGenerator\n",
        "\n",
        "# get training and testing data\n",
        "train_dir = \"10_food_classes_10_percent/train/\"\n",
        "test_dir = \"10_food_classes_10_percent/test/\"\n",
        "\n",
        "# get data generators\n",
        "train_datagen = ImageDataGenerator(rescale=1/255.)\n",
        "test_datagen = ImageDataGenerator(rescale=1/255.)\n",
        "\n",
        "# get images from directory\n",
        "print(\"Training images:\")\n",
        "train_data = train_datagen.flow_from_directory(train_dir,\n",
        "                                               target_size=SHAPE,\n",
        "                                               batch_size=32,\n",
        "                                               class_mode=\"categorical\")\n",
        "\n",
        "print(\"Testing images:\")\n",
        "test_data = test_datagen.flow_from_directory(test_dir, \n",
        "                                             target_size=SHAPE,\n",
        "                                             batch_size=32,\n",
        "                                             class_mode=\"categorical\")"
      ],
      "metadata": {
        "colab": {
          "base_uri": "https://localhost:8080/"
        },
        "id": "ZvaaVdzOqYcW",
        "outputId": "7bf004ab-eb84-4765-ac8a-9bcd94960885"
      },
      "execution_count": 27,
      "outputs": [
        {
          "output_type": "stream",
          "name": "stdout",
          "text": [
            "Training images:\n",
            "Found 750 images belonging to 10 classes.\n",
            "Testing images:\n",
            "Found 2500 images belonging to 10 classes.\n"
          ]
        }
      ]
    },
    {
      "cell_type": "markdown",
      "source": [
        "#Callbacks\n",
        "Use this callback to upload and save to Tensorboard"
      ],
      "metadata": {
        "id": "jpUqE_egwWgh"
      }
    },
    {
      "cell_type": "code",
      "source": [
        "def tensorboard_callback(dir, experiment):\n",
        "  \"\"\" \n",
        "  Function that will be used as a callback in the model's\n",
        "  fitting to save performance in tensorboard\n",
        "  \"\"\"\n",
        "  import datetime\n",
        "\n",
        "  directory = dir + \"/\" + experiment + \"/\" + datetime.datetime.now().strftime(\"%y%m%d-%H%M%S\")\n",
        "  callback = tf.keras.callbacks.TensorBoard(log_dir=directory)\n",
        "  print(f\"Saving logfiles to {directory}\")\n",
        "  return callback"
      ],
      "metadata": {
        "id": "pY0kN9vzwmAJ"
      },
      "execution_count": 38,
      "outputs": []
    },
    {
      "cell_type": "markdown",
      "source": [
        "#Setting up model\n",
        "The model to be used is [Mobilnet_v2](https://tfhub.dev/google/imagenet/mobilenet_v2_100_224/feature_vector/4)"
      ],
      "metadata": {
        "id": "yh91HIzXvlou"
      }
    },
    {
      "cell_type": "code",
      "source": [
        "# functionize creating models from url\n",
        "def create_url_mode(url, classes=10, shape=(224,224)):\n",
        "  \"\"\"\n",
        "  Takes a TensorFlow Hub URL and creates a Keras Sequential model with it.\n",
        "  \n",
        "  Args:\n",
        "    url (str): A TensorFlow Hub Feature Extraction URL.\n",
        "    classes (int):  Number if neurons in the OUTPUT layer, equal to number of \n",
        "    terget classes. Defaukt = 10.\n",
        "  \"\"\"\n",
        "  import tensorflow_hub as hub\n",
        "\n",
        "  # download pretrained model and save as layer\n",
        "  feature_extraction_layer = hub.KerasLayer(url, trainable=False, name=\"Feature_extraction_layer\",\n",
        "                                            input_shape=shape+(3,))\n",
        "  \n",
        "  # check for multivariate or single variate\n",
        "  if classes == 2:\n",
        "    activation = tf.keras.activations.sigmoid\n",
        "  elif classes > 2:\n",
        "    activation = tf.keras.activations.softmax\n",
        "  else:\n",
        "    raise Exception(\"Classes need to be greater than 1\")\n",
        "\n",
        "  # create model\n",
        "  model = tf.keras.Sequential([\n",
        "    # input and hidden layers\n",
        "    feature_extraction_layer,\n",
        "    # output layer\n",
        "    tf.keras.layers.Dense(units=classes, activation=activation, name=\"output_layer\")\n",
        "  ])\n",
        "\n",
        "  return model"
      ],
      "metadata": {
        "id": "9z4bh41bwInu"
      },
      "execution_count": 33,
      "outputs": []
    },
    {
      "cell_type": "code",
      "source": [
        "# create mobilnet model\n",
        "mobilnet_model = create_url_mode(url=\"https://tfhub.dev/google/imagenet/mobilenet_v2_100_224/feature_vector/4\",\n",
        "                                 classes=train_data.num_classes)"
      ],
      "metadata": {
        "id": "JuGQvG6C0y6z"
      },
      "execution_count": 35,
      "outputs": []
    },
    {
      "cell_type": "code",
      "source": [
        "# validate the model creation \n",
        "mobilnet_model.summary()"
      ],
      "metadata": {
        "colab": {
          "base_uri": "https://localhost:8080/"
        },
        "id": "ese_v-Hw1Xbp",
        "outputId": "0f21b2b2-e42c-452e-b825-19100c1a1213"
      },
      "execution_count": 36,
      "outputs": [
        {
          "output_type": "stream",
          "name": "stdout",
          "text": [
            "Model: \"sequential_1\"\n",
            "_________________________________________________________________\n",
            " Layer (type)                Output Shape              Param #   \n",
            "=================================================================\n",
            " Feature_extraction_layer (K  (None, 1280)             2257984   \n",
            " erasLayer)                                                      \n",
            "                                                                 \n",
            " output_layer (Dense)        (None, 10)                12810     \n",
            "                                                                 \n",
            "=================================================================\n",
            "Total params: 2,270,794\n",
            "Trainable params: 12,810\n",
            "Non-trainable params: 2,257,984\n",
            "_________________________________________________________________\n"
          ]
        }
      ]
    },
    {
      "cell_type": "code",
      "source": [
        "# first compilation of model\n",
        "mobilnet_model.compile(loss=tf.keras.losses.categorical_crossentropy,\n",
        "                       optimizer=tf.keras.optimizers.Adam(),\n",
        "                       metrics=[\"accuracy\"])"
      ],
      "metadata": {
        "id": "9K5TQXI61fE3"
      },
      "execution_count": 37,
      "outputs": []
    },
    {
      "cell_type": "code",
      "source": [
        "mobilnet_history_0 = mobilnet_model.fit(train_data, epochs=EPOCHS, steps_per_epoch=len(train_data),\n",
        "                                        validation_data=test_data, validation_steps=len(test_data),\n",
        "                                        callbacks=[tensorboard_callback(dir=\"tf_hub\", experiment=\"mobilnet_0\")])"
      ],
      "metadata": {
        "colab": {
          "base_uri": "https://localhost:8080/"
        },
        "id": "HgVYz5dx2FBI",
        "outputId": "df186379-5965-4a16-aeee-2a690ba0b679"
      },
      "execution_count": 39,
      "outputs": [
        {
          "output_type": "stream",
          "name": "stdout",
          "text": [
            "Saving logfiles to tf_hub/mobilnet_0/220107-000521\n",
            "Epoch 1/5\n",
            "24/24 [==============================] - 31s 806ms/step - loss: 1.9539 - accuracy: 0.3547 - val_loss: 1.2779 - val_accuracy: 0.6272\n",
            "Epoch 2/5\n",
            "24/24 [==============================] - 18s 754ms/step - loss: 1.0378 - accuracy: 0.6920 - val_loss: 0.8967 - val_accuracy: 0.7312\n",
            "Epoch 3/5\n",
            "24/24 [==============================] - 18s 779ms/step - loss: 0.7452 - accuracy: 0.7760 - val_loss: 0.7685 - val_accuracy: 0.7640\n",
            "Epoch 4/5\n",
            "24/24 [==============================] - 18s 772ms/step - loss: 0.5965 - accuracy: 0.8373 - val_loss: 0.6948 - val_accuracy: 0.7844\n",
            "Epoch 5/5\n",
            "24/24 [==============================] - 18s 770ms/step - loss: 0.4909 - accuracy: 0.8720 - val_loss: 0.6525 - val_accuracy: 0.7892\n"
          ]
        }
      ]
    },
    {
      "cell_type": "markdown",
      "source": [
        "#Compare models\n",
        "Compare models [resnet](https://tfhub.dev/google/imagenet/resnet_v2_50/feature_vector/5) and mobilnet."
      ],
      "metadata": {
        "id": "MDdgU0eQ3dqZ"
      }
    },
    {
      "cell_type": "code",
      "source": [
        "# create resnet model\n",
        "resnet_model = create_url_mode(\"https://tfhub.dev/google/imagenet/resnet_v2_50/feature_vector/5\",\n",
        "                               classes=train_data.num_classes)\n",
        "\n",
        "# compile the model\n",
        "resnet_model.compile(loss=tf.keras.losses.categorical_crossentropy,\n",
        "                     optimizer=tf.keras.optimizers.Adam(),\n",
        "                     metrics=[\"accuracy\"])\n",
        "\n",
        "# fit the model\n",
        "resnet_history_0 = resnet_model.fit(train_data, epochs=EPOCHS, steps_per_epoch=len(train_data),\n",
        "                                        validation_data=test_data, validation_steps=len(test_data),\n",
        "                                        callbacks=[tensorboard_callback(dir=\"tf_hub\", experiment=\"resnet_0\")])"
      ],
      "metadata": {
        "colab": {
          "base_uri": "https://localhost:8080/"
        },
        "id": "B9poJ3Ok3QlP",
        "outputId": "5c6ac5ba-02c5-4385-8504-6dac81f71698"
      },
      "execution_count": 41,
      "outputs": [
        {
          "output_type": "stream",
          "name": "stdout",
          "text": [
            "Saving logfiles to tf_hub/resnet_0/220107-001742\n",
            "Epoch 1/5\n",
            "24/24 [==============================] - 30s 1s/step - loss: 1.9907 - accuracy: 0.3360 - val_loss: 1.2572 - val_accuracy: 0.5992\n",
            "Epoch 2/5\n",
            "24/24 [==============================] - 21s 918ms/step - loss: 0.9558 - accuracy: 0.7240 - val_loss: 0.8732 - val_accuracy: 0.7272\n",
            "Epoch 3/5\n",
            "24/24 [==============================] - 21s 915ms/step - loss: 0.6526 - accuracy: 0.8187 - val_loss: 0.7631 - val_accuracy: 0.7572\n",
            "Epoch 4/5\n",
            "24/24 [==============================] - 21s 919ms/step - loss: 0.4896 - accuracy: 0.8787 - val_loss: 0.7101 - val_accuracy: 0.7668\n",
            "Epoch 5/5\n",
            "24/24 [==============================] - 22s 920ms/step - loss: 0.3945 - accuracy: 0.9093 - val_loss: 0.6894 - val_accuracy: 0.7792\n"
          ]
        }
      ]
    },
    {
      "cell_type": "code",
      "source": [
        "def compare_histories(first_h, second_h):\n",
        "  \"\"\" Compares two histories inputed \"\"\"\n",
        "  import matplotlib.pyplot as plt\n",
        "  # get first measurments\n",
        "  f_acc = first_h.history[\"accuracy\"]\n",
        "  f_loss = first_h.history[\"loss\"]\n",
        "  f_val_loss = first_h.history[\"val_loss\"]\n",
        "\n",
        "  # get second measurments\n",
        "  s_acc = second_h.history[\"accuracy\"]\n",
        "  s_loss = second_h.history[\"loss\"]\n",
        "  s_val_loss = second_h.history[\"val_loss\"]\n",
        "\n",
        "  # plot measurments\n",
        "  plt.figure(figsize=(10,10))\n",
        "  plt.subplot(2,1,1)\n",
        "  plt.plot(f_acc, label=\"first_acc\")\n",
        "  plt.plot(s_acc, label=\"second_acc\")\n",
        "  plt.legend()\n",
        "\n",
        "  plt.figure(figsize=(10,10))\n",
        "  plt.subplot(2,1,1)\n",
        "  plt.plot(f_loss, label=\"first_acc\")\n",
        "  plt.plot(s_loss, label=\"second_acc\")\n",
        "  plt.legend()"
      ],
      "metadata": {
        "id": "7j5dUl4i7D-5"
      },
      "execution_count": 48,
      "outputs": []
    },
    {
      "cell_type": "code",
      "source": [
        "compare_histories(mobilnet_history_0, resnet_history_0)"
      ],
      "metadata": {
        "colab": {
          "base_uri": "https://localhost:8080/",
          "height": 573
        },
        "id": "eq94sXaR9-Ol",
        "outputId": "85bb1856-577d-47f4-bd84-07be8a436d34"
      },
      "execution_count": 49,
      "outputs": [
        {
          "output_type": "display_data",
          "data": {
            "image/png": "[encoded data removed]",
            "text/plain": [
              "<Figure size 720x720 with 1 Axes>"
            ]
          },
          "metadata": {
            "needs_background": "light"
          }
        },
        {
          "output_type": "display_data",
          "data": {
            "image/png": "[encoded data removed]",
            "text/plain": [
              "<Figure size 720x720 with 1 Axes>"
            ]
          },
          "metadata": {
            "needs_background": "light"
          }
        }
      ]
    }
  ]
}