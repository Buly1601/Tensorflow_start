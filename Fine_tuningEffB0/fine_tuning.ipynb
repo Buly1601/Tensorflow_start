{
  "nbformat": 4,
  "nbformat_minor": 0,
  "metadata": {
    "colab": {
      "name": "fine_tuning.ipynb",
      "provenance": []
    },
    "kernelspec": {
      "name": "python3",
      "display_name": "Python 3"
    },
    "language_info": {
      "name": "python"
    },
    "accelerator": "GPU"
  },
  "cells": [
    {
      "cell_type": "markdown",
      "source": [
        "#Fine tuning\n",
        "- Use feature extraction to to train a model on 10% of [101 food dataset](https://storage.googleapis.com/ztm_tf_course/food_vision/10_food_classes_10_percent.zip)\n",
        "- Fine tune EfficientNetB0 model:\n",
        "  - its last 20 layers\n",
        "  - its last 30 layers\n",
        "- Save the weights to a file using model checkpoint\n",
        "\n",
        "\n"
      ],
      "metadata": {
        "id": "he7tnR46XkSP"
      }
    },
    {
      "cell_type": "markdown",
      "source": [
        "#Data preprocessing"
      ],
      "metadata": {
        "id": "V9H1CRmnYWeV"
      }
    },
    {
      "cell_type": "code",
      "execution_count": 1,
      "metadata": {
        "colab": {
          "base_uri": "https://localhost:8080/"
        },
        "id": "Gi4_-W4vWkLF",
        "outputId": "a75cf9bb-672c-4de4-9501-4cb41b7bfab2"
      },
      "outputs": [
        {
          "output_type": "stream",
          "name": "stdout",
          "text": [
            "--2022-01-08 21:49:00--  https://storage.googleapis.com/ztm_tf_course/food_vision/10_food_classes_10_percent.zip\n",
            "Resolving storage.googleapis.com (storage.googleapis.com)... 142.250.152.128, 142.250.136.128, 209.85.200.128, ...\n",
            "Connecting to storage.googleapis.com (storage.googleapis.com)|142.250.152.128|:443... connected.\n",
            "HTTP request sent, awaiting response... 200 OK\n",
            "Length: 168546183 (161M) [application/zip]\n",
            "Saving to: ‘10_food_classes_10_percent.zip’\n",
            "\n",
            "10_food_classes_10_ 100%[===================>] 160.74M   104MB/s    in 1.5s    \n",
            "\n",
            "2022-01-08 21:49:02 (104 MB/s) - ‘10_food_classes_10_percent.zip’ saved [168546183/168546183]\n",
            "\n"
          ]
        }
      ],
      "source": [
        "# run if using Google Colab\n",
        "!wget https://storage.googleapis.com/ztm_tf_course/food_vision/10_food_classes_10_percent.zip"
      ]
    },
    {
      "cell_type": "code",
      "source": [
        "# unzip the data \n",
        "import zipfile\n",
        "import os\n",
        "\n",
        "zip_reference = zipfile.ZipFile(\"10_food_classes_10_percent.zip\")\n",
        "zip_reference.extractall()\n",
        "zip_reference.close()"
      ],
      "metadata": {
        "id": "qXPF82K4YlYi"
      },
      "execution_count": 2,
      "outputs": []
    },
    {
      "cell_type": "code",
      "source": [
        "# observe that the unzipped data is correct\n",
        "for path, dir, file in os.walk(\"10_food_classes_10_percent\"):\n",
        "  print(f\"There are {len(dir)} folders, {len(file)} images in {path}\")"
      ],
      "metadata": {
        "colab": {
          "base_uri": "https://localhost:8080/"
        },
        "id": "Q-tmDjfbY6VN",
        "outputId": "2b4db56f-e237-4d3f-9373-fbc5ff596c22"
      },
      "execution_count": 3,
      "outputs": [
        {
          "output_type": "stream",
          "name": "stdout",
          "text": [
            "There are 2 folders, 0 images in 10_food_classes_10_percent\n",
            "There are 10 folders, 0 images in 10_food_classes_10_percent/train\n",
            "There are 0 folders, 75 images in 10_food_classes_10_percent/train/grilled_salmon\n",
            "There are 0 folders, 75 images in 10_food_classes_10_percent/train/pizza\n",
            "There are 0 folders, 75 images in 10_food_classes_10_percent/train/hamburger\n",
            "There are 0 folders, 75 images in 10_food_classes_10_percent/train/chicken_curry\n",
            "There are 0 folders, 75 images in 10_food_classes_10_percent/train/ice_cream\n",
            "There are 0 folders, 75 images in 10_food_classes_10_percent/train/fried_rice\n",
            "There are 0 folders, 75 images in 10_food_classes_10_percent/train/ramen\n",
            "There are 0 folders, 75 images in 10_food_classes_10_percent/train/chicken_wings\n",
            "There are 0 folders, 75 images in 10_food_classes_10_percent/train/sushi\n",
            "There are 0 folders, 75 images in 10_food_classes_10_percent/train/steak\n",
            "There are 10 folders, 0 images in 10_food_classes_10_percent/test\n",
            "There are 0 folders, 250 images in 10_food_classes_10_percent/test/grilled_salmon\n",
            "There are 0 folders, 250 images in 10_food_classes_10_percent/test/pizza\n",
            "There are 0 folders, 250 images in 10_food_classes_10_percent/test/hamburger\n",
            "There are 0 folders, 250 images in 10_food_classes_10_percent/test/chicken_curry\n",
            "There are 0 folders, 250 images in 10_food_classes_10_percent/test/ice_cream\n",
            "There are 0 folders, 250 images in 10_food_classes_10_percent/test/fried_rice\n",
            "There are 0 folders, 250 images in 10_food_classes_10_percent/test/ramen\n",
            "There are 0 folders, 250 images in 10_food_classes_10_percent/test/chicken_wings\n",
            "There are 0 folders, 250 images in 10_food_classes_10_percent/test/sushi\n",
            "There are 0 folders, 250 images in 10_food_classes_10_percent/test/steak\n"
          ]
        }
      ]
    },
    {
      "cell_type": "code",
      "source": [
        "# preprocess the data with TensorFlow\n",
        "import tensorflow as tf\n",
        "\n",
        "# set up global vars\n",
        "SHAPE = (224,224)\n",
        "BATCH = 32\n",
        "\n",
        "# get data from directory\n",
        "train_path = \"/content/10_food_classes_10_percent/train\"\n",
        "test_path = \"/content/10_food_classes_10_percent/test\"\n",
        "\n",
        "train_data = tf.keras.preprocessing.image_dataset_from_directory(train_path, image_size=SHAPE,\n",
        "                                                 batch_size=BATCH, label_mode=\"categorical\")\n",
        "test_data = tf.keras.preprocessing.image_dataset_from_directory(test_path, image_size=SHAPE,\n",
        "                                               batch_size=BATCH, label_mode=\"categorical\")"
      ],
      "metadata": {
        "colab": {
          "base_uri": "https://localhost:8080/"
        },
        "id": "t7xLqKRxZq8v",
        "outputId": "de60fdf6-6389-4a3f-d724-e480b01e7147"
      },
      "execution_count": 4,
      "outputs": [
        {
          "output_type": "stream",
          "name": "stdout",
          "text": [
            "Found 750 files belonging to 10 classes.\n",
            "Found 2500 files belonging to 10 classes.\n"
          ]
        }
      ]
    },
    {
      "cell_type": "markdown",
      "source": [
        "#Callbacks\n",
        "- ModelCheckpoint"
      ],
      "metadata": {
        "id": "QC1_rWcdbJIC"
      }
    },
    {
      "cell_type": "code",
      "source": [
        "# model checkpoint callback\n",
        "checkpoint_path = \"10p_model_chkpt_weights/checkpoint.ckpt\"\n",
        "\n",
        "checkpoint_callback = tf.keras.callbacks.ModelCheckpoint(filepath=checkpoint_path,\n",
        "                                                         save_weights_only=True,\n",
        "                                                         save_best_only=True,\n",
        "                                                         save_freq=\"epoch\",\n",
        "                                                         verbose=1)"
      ],
      "metadata": {
        "id": "irOSpTY1bEyv"
      },
      "execution_count": 5,
      "outputs": []
    },
    {
      "cell_type": "markdown",
      "source": [
        "#Data augmentation"
      ],
      "metadata": {
        "id": "MIJPauO1ceQg"
      }
    },
    {
      "cell_type": "code",
      "source": [
        "# create data augmentatio layer\n",
        "data_augmentation_layer = tf.keras.Sequential([\n",
        "  tf.keras.layers.experimental.preprocessing.RandomFlip(\"horizontal\"),\n",
        "  tf.keras.layers.experimental.preprocessing.RandomRotation(0.2),\n",
        "  tf.keras.layers.experimental.preprocessing.RandomZoom(0.2),\n",
        "  tf.keras.layers.experimental.preprocessing.RandomHeight(0.2),\n",
        "], name=\"Data-augmentation-layer\")"
      ],
      "metadata": {
        "id": "S3O5f9B-cgm8"
      },
      "execution_count": 6,
      "outputs": []
    },
    {
      "cell_type": "markdown",
      "source": [
        "#Helper functions\n",
        "- Plot loss curves\n",
        "- Visualize data\n",
        "- Compare performance\n"
      ],
      "metadata": {
        "id": "_f8-HW1lxbQQ"
      }
    },
    {
      "cell_type": "code",
      "source": [
        "def plot_loss(history):\n",
        "  \"\"\" Plots the accuracy and lost curves from history \"\"\"\n",
        "  \n",
        "  import matplotlib.pyplot as plt\n",
        "\n",
        "  # get history information\n",
        "  accuracy = history.history[\"accuracy\"]\n",
        "  loss = history.history[\"loss\"]\n",
        "  val_loss = history.history[\"val_loss\"]\n",
        "  val_accuracy = history.history[\"val_accuracy\"]\n",
        "  epochs = range(len(history.history[\"loss\"]))\n",
        "\n",
        "  # plot curves\n",
        "  plt.figure()\n",
        "  plt.plot(epochs, val_accuracy, label=\"Validation accuracy curve\")\n",
        "  plt.plot(epochs, accuracy, label=\"Train accuracy curve\")\n",
        "  plt.title('Accuracy')\n",
        "  plt.xlabel('Epochs')\n",
        "  plt.legend()\n",
        "\n",
        "  plt.figure()\n",
        "  plt.plot(epochs, val_loss, label=\"Validation loss curve\")\n",
        "  plt.plot(epochs, loss, label=\"Train loss curve\")\n",
        "  plt.title('Loss')\n",
        "  plt.xlabel('Epochs')\n",
        "  plt.legend()"
      ],
      "metadata": {
        "id": "yLnGwuklxf7a"
      },
      "execution_count": 7,
      "outputs": []
    },
    {
      "cell_type": "code",
      "source": [
        "def visualize(filename, augmentation=False, layer=None, img_shape=224):\n",
        "  \"\"\" Visualize image, data can be augmented \"\"\" \n",
        "  import matplotlib.pyplot as plt\n",
        "\n",
        "  # get random image from directory\n",
        "  img = tf.io.read_file(filename)\n",
        "  # Decode it into a tensor\n",
        "  img = tf.image.decode_jpeg(img)\n",
        "  # Resize the image\n",
        "  img = tf.image.resize(img, [img_shape, img_shape])\n",
        "\n",
        "  # know if data is augmented or not\n",
        "  if augmentation: \n",
        "    # get the augmented image using layer\n",
        "    result = layer(img)\n",
        "    plt.imshow(result)\n",
        "  else:\n",
        "    plt.imshow(img)"
      ],
      "metadata": {
        "id": "Z_zNZskx19qa"
      },
      "execution_count": 8,
      "outputs": []
    },
    {
      "cell_type": "code",
      "source": [
        "def compare_performace(h1, h2):\n",
        "  \"\"\" Compares the performance of two histories \"\"\"\n",
        "  import matplotlib.pyplot as plt\n",
        "\n",
        "  # get the data\n",
        "  acc_1 = h1.history[\"accuracy\"]\n",
        "  acc_2 = h2.history[\"accuracy\"]\n",
        "  loss_1 = h1.history[\"loss\"]\n",
        "  loss_2 = h2.history[\"loss\"]\n",
        "  val_loss_1 = h1.history[\"val_loss\"]\n",
        "  val_loss_2 = h2.history[\"val_loss\"]\n",
        "  val_acc_1 = h1.history[\"val_accuracy\"]\n",
        "  val_acc_2 = h2.history[\"val_accuracy\"]\n",
        "  epochs = range(len(h1.history[\"loss\"]))\n",
        "\n",
        "  # plot the data\n",
        "  plt.figure()\n",
        "  plt.plot(epochs, val_acc_1, label=\"Validation accuracy 1\")\n",
        "  plt.plot(epochs, val_acc_2, label=\"Validation accuracy 2\")\n",
        "  plt.title('Validation accuracy')\n",
        "  plt.xlabel('Epochs')\n",
        "  plt.legend()\n",
        "  \n",
        "  plt.figure()\n",
        "  plt.plot(epochs, val_loss_1, label=\"Validation loss 1\")\n",
        "  plt.plot(epochs, val_loss_2, label=\"Validation loss 2\")\n",
        "  plt.title('Validation loss')\n",
        "  plt.xlabel('Epochs')\n",
        "  plt.legend()"
      ],
      "metadata": {
        "id": "mhQcck3KusOD"
      },
      "execution_count": 27,
      "outputs": []
    },
    {
      "cell_type": "markdown",
      "source": [
        "#Create Model\n",
        "- Do not rescale, EfficientNetB0 has rescaling layer"
      ],
      "metadata": {
        "id": "Cgq8HoGeddxj"
      }
    },
    {
      "cell_type": "code",
      "source": [
        "# create model\n",
        "base_model = tf.keras.applications.EfficientNetB0(include_top=False)\n",
        "\n",
        "# freeze the model\n",
        "base_model.trainable = False\n",
        "\n",
        "# create inputs to the model\n",
        "inputs = tf.keras.layers.Input(shape=(224,224,3), name=\"Input-layer\")\n",
        "\n",
        "# data augmentation \n",
        "x = data_augmentation_layer(inputs)\n",
        "\n",
        "# pass inputs to model\n",
        "x = base_model(inputs)\n",
        "\n",
        "# average poot the outputs\n",
        "x = tf.keras.layers.GlobalAveragePooling2D(name=\"Average-pooling-layer\")(x)\n",
        "\n",
        "# create output layer\n",
        "outputs = tf.keras.layers.Dense(10, activation=\"softmax\",\n",
        "                                name=\"output-layer\")(x)\n",
        "\n",
        "# first model, combine\n",
        "model_0 = tf.keras.Model(inputs, outputs)\n",
        "\n",
        "# compile model\n",
        "model_0.compile(loss=tf.keras.losses.categorical_crossentropy,\n",
        "                optimizer=tf.keras.optimizers.Adam(),\n",
        "                metrics=[\"accuracy\"])\n",
        "\n",
        "# fit the model and save to history_0\n",
        "history_0 = model_0.fit(train_data, epochs=10, steps_per_epoch=len(train_data),\n",
        "                        validation_data=test_data, validation_steps=len(test_data),\n",
        "                        callbacks=[checkpoint_callback])"
      ],
      "metadata": {
        "colab": {
          "base_uri": "https://localhost:8080/"
        },
        "id": "txJkni5Pdfwq",
        "outputId": "2af60971-574f-4685-a678-e227d05171b9"
      },
      "execution_count": 9,
      "outputs": [
        {
          "output_type": "stream",
          "name": "stdout",
          "text": [
            "Downloading data from https://storage.googleapis.com/keras-applications/efficientnetb0_notop.h5\n",
            "16711680/16705208 [==============================] - 0s 0us/step\n",
            "16719872/16705208 [==============================] - 0s 0us/step\n",
            "Epoch 1/10\n",
            "24/24 [==============================] - ETA: 0s - loss: 1.8798 - accuracy: 0.3987\n",
            "Epoch 00001: val_loss improved from inf to 1.34247, saving model to 10p_model_chkpt_weights/checkpoint.ckpt\n",
            "24/24 [==============================] - 32s 699ms/step - loss: 1.8798 - accuracy: 0.3987 - val_loss: 1.3425 - val_accuracy: 0.6896\n",
            "Epoch 2/10\n",
            "24/24 [==============================] - ETA: 0s - loss: 1.1427 - accuracy: 0.7267\n",
            "Epoch 00002: val_loss improved from 1.34247 to 0.92956, saving model to 10p_model_chkpt_weights/checkpoint.ckpt\n",
            "24/24 [==============================] - 14s 587ms/step - loss: 1.1427 - accuracy: 0.7267 - val_loss: 0.9296 - val_accuracy: 0.7872\n",
            "Epoch 3/10\n",
            "24/24 [==============================] - ETA: 0s - loss: 0.8520 - accuracy: 0.7973\n",
            "Epoch 00003: val_loss improved from 0.92956 to 0.75276, saving model to 10p_model_chkpt_weights/checkpoint.ckpt\n",
            "24/24 [==============================] - 14s 584ms/step - loss: 0.8520 - accuracy: 0.7973 - val_loss: 0.7528 - val_accuracy: 0.8248\n",
            "Epoch 4/10\n",
            "24/24 [==============================] - ETA: 0s - loss: 0.6977 - accuracy: 0.8280\n",
            "Epoch 00004: val_loss improved from 0.75276 to 0.66616, saving model to 10p_model_chkpt_weights/checkpoint.ckpt\n",
            "24/24 [==============================] - 14s 589ms/step - loss: 0.6977 - accuracy: 0.8280 - val_loss: 0.6662 - val_accuracy: 0.8408\n",
            "Epoch 5/10\n",
            "24/24 [==============================] - ETA: 0s - loss: 0.5951 - accuracy: 0.8573\n",
            "Epoch 00005: val_loss improved from 0.66616 to 0.61209, saving model to 10p_model_chkpt_weights/checkpoint.ckpt\n",
            "24/24 [==============================] - 14s 585ms/step - loss: 0.5951 - accuracy: 0.8573 - val_loss: 0.6121 - val_accuracy: 0.8424\n",
            "Epoch 6/10\n",
            "24/24 [==============================] - ETA: 0s - loss: 0.5199 - accuracy: 0.8800\n",
            "Epoch 00006: val_loss improved from 0.61209 to 0.57251, saving model to 10p_model_chkpt_weights/checkpoint.ckpt\n",
            "24/24 [==============================] - 14s 581ms/step - loss: 0.5199 - accuracy: 0.8800 - val_loss: 0.5725 - val_accuracy: 0.8492\n",
            "Epoch 7/10\n",
            "24/24 [==============================] - ETA: 0s - loss: 0.4692 - accuracy: 0.9080\n",
            "Epoch 00007: val_loss improved from 0.57251 to 0.54525, saving model to 10p_model_chkpt_weights/checkpoint.ckpt\n",
            "24/24 [==============================] - 14s 582ms/step - loss: 0.4692 - accuracy: 0.9080 - val_loss: 0.5452 - val_accuracy: 0.8528\n",
            "Epoch 8/10\n",
            "24/24 [==============================] - ETA: 0s - loss: 0.4299 - accuracy: 0.9027\n",
            "Epoch 00008: val_loss improved from 0.54525 to 0.52658, saving model to 10p_model_chkpt_weights/checkpoint.ckpt\n",
            "24/24 [==============================] - 14s 580ms/step - loss: 0.4299 - accuracy: 0.9027 - val_loss: 0.5266 - val_accuracy: 0.8548\n",
            "Epoch 9/10\n",
            "24/24 [==============================] - ETA: 0s - loss: 0.3832 - accuracy: 0.9267\n",
            "Epoch 00009: val_loss improved from 0.52658 to 0.50760, saving model to 10p_model_chkpt_weights/checkpoint.ckpt\n",
            "24/24 [==============================] - 14s 588ms/step - loss: 0.3832 - accuracy: 0.9267 - val_loss: 0.5076 - val_accuracy: 0.8540\n",
            "Epoch 10/10\n",
            "24/24 [==============================] - ETA: 0s - loss: 0.3512 - accuracy: 0.9400\n",
            "Epoch 00010: val_loss improved from 0.50760 to 0.49613, saving model to 10p_model_chkpt_weights/checkpoint.ckpt\n",
            "24/24 [==============================] - 14s 583ms/step - loss: 0.3512 - accuracy: 0.9400 - val_loss: 0.4961 - val_accuracy: 0.8572\n"
          ]
        }
      ]
    },
    {
      "cell_type": "code",
      "source": [
        "# observe model_0's performance\n",
        "plot_loss(history_0)"
      ],
      "metadata": {
        "colab": {
          "base_uri": "https://localhost:8080/",
          "height": 573
        },
        "id": "srV-014qw87m",
        "outputId": "e32270e5-f81f-4b18-a109-4d3ca6663512"
      },
      "execution_count": 10,
      "outputs": [
        {
          "output_type": "display_data",
          "data": {
            "image/png": "[encoded data removed]",
            "text/plain": [
              "<Figure size 432x288 with 1 Axes>"
            ]
          },
          "metadata": {
            "needs_background": "light"
          }
        },
        {
          "output_type": "display_data",
          "data": {
            "image/png": "[encoded data removed]",
            "text/plain": [
              "<Figure size 432x288 with 1 Axes>"
            ]
          },
          "metadata": {
            "needs_background": "light"
          }
        }
      ]
    },
    {
      "cell_type": "code",
      "source": [
        "# visualize the augmented data (possible problem #1)\n",
        "visualize(\"/content/10_food_classes_10_percent/test/fried_rice/1023430.jpg\", augmentation=True, layer=data_augmentation_layer)"
      ],
      "metadata": {
        "colab": {
          "base_uri": "https://localhost:8080/",
          "height": 286
        },
        "id": "L0W4TElG23RQ",
        "outputId": "9497efda-ed0d-4510-ccbb-6361d47c1d1a"
      },
      "execution_count": 11,
      "outputs": [
        {
          "output_type": "stream",
          "name": "stderr",
          "text": [
            "Clipping input data to the valid range for imshow with RGB data ([0..1] for floats or [0..255] for integers).\n"
          ]
        },
        {
          "output_type": "display_data",
          "data": {
            "image/png": "[encoded data removed]",
            "text/plain": [
              "<Figure size 432x288 with 1 Axes>"
            ]
          },
          "metadata": {
            "needs_background": "light"
          }
        }
      ]
    },
    {
      "cell_type": "markdown",
      "source": [
        "#Fine tune model_0"
      ],
      "metadata": {
        "id": "6TSK2RV-6g4H"
      }
    },
    {
      "cell_type": "code",
      "source": [
        "# set the last 20 layers of the model\n",
        "# set all to false\n",
        "for i in range(len(base_model.layers)):\n",
        "  base_model.layers[i].trainable = False\n",
        "\n",
        "# set last 20 to true\n",
        "for i in range(21):\n",
        "  base_model.layers[len(base_model.layers)-i-1].trainable = True"
      ],
      "metadata": {
        "id": "Svt_yjnt6Id4"
      },
      "execution_count": 12,
      "outputs": []
    },
    {
      "cell_type": "code",
      "source": [
        "# check if last 20 were changed\n",
        "for layer in base_model.layers:\n",
        "  print(layer.trainable)"
      ],
      "metadata": {
        "colab": {
          "base_uri": "https://localhost:8080/"
        },
        "id": "UGfKeq617orP",
        "outputId": "d93ea2ae-01b6-4d7f-8010-fa82b209d0f4"
      },
      "execution_count": 13,
      "outputs": [
        {
          "output_type": "stream",
          "name": "stdout",
          "text": [
            "False\n",
            "False\n",
            "False\n",
            "False\n",
            "False\n",
            "False\n",
            "False\n",
            "False\n",
            "False\n",
            "False\n",
            "False\n",
            "False\n",
            "False\n",
            "False\n",
            "False\n",
            "False\n",
            "False\n",
            "False\n",
            "False\n",
            "False\n",
            "False\n",
            "False\n",
            "False\n",
            "False\n",
            "False\n",
            "False\n",
            "False\n",
            "False\n",
            "False\n",
            "False\n",
            "False\n",
            "False\n",
            "False\n",
            "False\n",
            "False\n",
            "False\n",
            "False\n",
            "False\n",
            "False\n",
            "False\n",
            "False\n",
            "False\n",
            "False\n",
            "False\n",
            "False\n",
            "False\n",
            "False\n",
            "False\n",
            "False\n",
            "False\n",
            "False\n",
            "False\n",
            "False\n",
            "False\n",
            "False\n",
            "False\n",
            "False\n",
            "False\n",
            "False\n",
            "False\n",
            "False\n",
            "False\n",
            "False\n",
            "False\n",
            "False\n",
            "False\n",
            "False\n",
            "False\n",
            "False\n",
            "False\n",
            "False\n",
            "False\n",
            "False\n",
            "False\n",
            "False\n",
            "False\n",
            "False\n",
            "False\n",
            "False\n",
            "False\n",
            "False\n",
            "False\n",
            "False\n",
            "False\n",
            "False\n",
            "False\n",
            "False\n",
            "False\n",
            "False\n",
            "False\n",
            "False\n",
            "False\n",
            "False\n",
            "False\n",
            "False\n",
            "False\n",
            "False\n",
            "False\n",
            "False\n",
            "False\n",
            "False\n",
            "False\n",
            "False\n",
            "False\n",
            "False\n",
            "False\n",
            "False\n",
            "False\n",
            "False\n",
            "False\n",
            "False\n",
            "False\n",
            "False\n",
            "False\n",
            "False\n",
            "False\n",
            "False\n",
            "False\n",
            "False\n",
            "False\n",
            "False\n",
            "False\n",
            "False\n",
            "False\n",
            "False\n",
            "False\n",
            "False\n",
            "False\n",
            "False\n",
            "False\n",
            "False\n",
            "False\n",
            "False\n",
            "False\n",
            "False\n",
            "False\n",
            "False\n",
            "False\n",
            "False\n",
            "False\n",
            "False\n",
            "False\n",
            "False\n",
            "False\n",
            "False\n",
            "False\n",
            "False\n",
            "False\n",
            "False\n",
            "False\n",
            "False\n",
            "False\n",
            "False\n",
            "False\n",
            "False\n",
            "False\n",
            "False\n",
            "False\n",
            "False\n",
            "False\n",
            "False\n",
            "False\n",
            "False\n",
            "False\n",
            "False\n",
            "False\n",
            "False\n",
            "False\n",
            "False\n",
            "False\n",
            "False\n",
            "False\n",
            "False\n",
            "False\n",
            "False\n",
            "False\n",
            "False\n",
            "False\n",
            "False\n",
            "False\n",
            "False\n",
            "False\n",
            "False\n",
            "False\n",
            "False\n",
            "False\n",
            "False\n",
            "False\n",
            "False\n",
            "False\n",
            "False\n",
            "False\n",
            "False\n",
            "False\n",
            "False\n",
            "False\n",
            "False\n",
            "False\n",
            "False\n",
            "False\n",
            "False\n",
            "False\n",
            "False\n",
            "False\n",
            "False\n",
            "False\n",
            "False\n",
            "False\n",
            "False\n",
            "False\n",
            "False\n",
            "False\n",
            "False\n",
            "False\n",
            "False\n",
            "False\n",
            "True\n",
            "True\n",
            "True\n",
            "True\n",
            "True\n",
            "True\n",
            "True\n",
            "True\n",
            "True\n",
            "True\n",
            "True\n",
            "True\n",
            "True\n",
            "True\n",
            "True\n",
            "True\n",
            "True\n",
            "True\n",
            "True\n",
            "True\n",
            "True\n"
          ]
        }
      ]
    },
    {
      "cell_type": "code",
      "source": [
        "# after changing some settings, recompile \n",
        "model_0.compile(loss=tf.keras.losses.categorical_crossentropy,\n",
        "                optimizer=tf.keras.optimizers.Adam(learning_rate=0.001), # always when recompile lower lr by 10x\n",
        "                metrics=[\"accuracy\"])"
      ],
      "metadata": {
        "id": "d1Npyz4J7RtA"
      },
      "execution_count": 14,
      "outputs": []
    },
    {
      "cell_type": "code",
      "source": [
        "# fine tune for another five epochs\n",
        "fine_tune_epochs = 15\n",
        "\n",
        "# refit the model\n",
        "history_1 = model_0.fit(train_data, epochs=fine_tune_epochs, steps_per_epoch=len(train_data),\n",
        "                        validation_data=test_data, initial_epoch=history_0.epoch[-1], \n",
        "                        validation_steps=len(test_data))"
      ],
      "metadata": {
        "colab": {
          "base_uri": "https://localhost:8080/"
        },
        "id": "DV3Uic507m98",
        "outputId": "c05d388b-934d-4a6d-8701-bb021208aefe"
      },
      "execution_count": 15,
      "outputs": [
        {
          "output_type": "stream",
          "name": "stdout",
          "text": [
            "Epoch 10/15\n",
            "24/24 [==============================] - 22s 645ms/step - loss: 0.8120 - accuracy: 0.8213 - val_loss: 0.5068 - val_accuracy: 0.8404\n",
            "Epoch 11/15\n",
            "24/24 [==============================] - 14s 571ms/step - loss: 0.6321 - accuracy: 0.8827 - val_loss: 0.4784 - val_accuracy: 0.8508\n",
            "Epoch 12/15\n",
            "24/24 [==============================] - 14s 571ms/step - loss: 0.5330 - accuracy: 0.9013 - val_loss: 0.4808 - val_accuracy: 0.8516\n",
            "Epoch 13/15\n",
            "24/24 [==============================] - 14s 572ms/step - loss: 0.4787 - accuracy: 0.9120 - val_loss: 0.4859 - val_accuracy: 0.8452\n",
            "Epoch 14/15\n",
            "24/24 [==============================] - 14s 573ms/step - loss: 0.4091 - accuracy: 0.9347 - val_loss: 0.4851 - val_accuracy: 0.8476\n",
            "Epoch 15/15\n",
            "24/24 [==============================] - 14s 570ms/step - loss: 0.3842 - accuracy: 0.9333 - val_loss: 0.4911 - val_accuracy: 0.8456\n"
          ]
        }
      ]
    },
    {
      "cell_type": "code",
      "source": [
        "# plot the results\n",
        "plot_loss(history_1)"
      ],
      "metadata": {
        "colab": {
          "base_uri": "https://localhost:8080/",
          "height": 573
        },
        "id": "OyXgk8nfKQ_Z",
        "outputId": "e478e3fe-e2db-4e6a-ffd2-decbb14871ae"
      },
      "execution_count": 16,
      "outputs": [
        {
          "output_type": "display_data",
          "data": {
            "image/png": "[encoded data removed]",
            "text/plain": [
              "<Figure size 432x288 with 1 Axes>"
            ]
          },
          "metadata": {
            "needs_background": "light"
          }
        },
        {
          "output_type": "display_data",
          "data": {
            "image/png": "[encoded data removed]",
            "text/plain": [
              "<Figure size 432x288 with 1 Axes>"
            ]
          },
          "metadata": {
            "needs_background": "light"
          }
        }
      ]
    },
    {
      "cell_type": "code",
      "source": [
        "# unfreeze 30 layers\n",
        "# set all to false\n",
        "for i in range(len(base_model.layers)):\n",
        "  base_model.layers[i].trainable = False\n",
        "\n",
        "# set last 20 to true\n",
        "for i in range(21):\n",
        "  base_model.layers[len(base_model.layers)-i-1].trainable = True"
      ],
      "metadata": {
        "id": "R25nkveHKQxg"
      },
      "execution_count": 17,
      "outputs": []
    },
    {
      "cell_type": "code",
      "source": [
        "# reload from checkpoint, to compare histories 20 vs 30\n",
        "model_0.load_weights(checkpoint_path)"
      ],
      "metadata": {
        "id": "MKL1MK59PanY",
        "colab": {
          "base_uri": "https://localhost:8080/"
        },
        "outputId": "3624444c-29d1-44b8-8e71-8ef1df661199"
      },
      "execution_count": 20,
      "outputs": [
        {
          "output_type": "execute_result",
          "data": {
            "text/plain": [
              "<tensorflow.python.training.tracking.util.CheckpointLoadStatus at 0x7fd24b149c10>"
            ]
          },
          "metadata": {},
          "execution_count": 20
        }
      ]
    },
    {
      "cell_type": "code",
      "source": [
        "# unfreeze 30 layers\n",
        "# set all to false\n",
        "for i in range(len(base_model.layers)):\n",
        "  base_model.layers[i].trainable = False\n",
        "\n",
        "# set last 20 to true\n",
        "for i in range(31):\n",
        "  base_model.layers[len(base_model.layers)-i-1].trainable = True"
      ],
      "metadata": {
        "id": "0lWdxBGfs1wd"
      },
      "execution_count": 21,
      "outputs": []
    },
    {
      "cell_type": "code",
      "source": [
        "# confirm unfreezing\n",
        "for i in base_model.layers:\n",
        "  print(i.trainable)"
      ],
      "metadata": {
        "colab": {
          "base_uri": "https://localhost:8080/"
        },
        "id": "8XGZHvBxs8rM",
        "outputId": "bc82f03e-c340-437a-9aea-603a1fde47fb"
      },
      "execution_count": 23,
      "outputs": [
        {
          "output_type": "stream",
          "name": "stdout",
          "text": [
            "False\n",
            "False\n",
            "False\n",
            "False\n",
            "False\n",
            "False\n",
            "False\n",
            "False\n",
            "False\n",
            "False\n",
            "False\n",
            "False\n",
            "False\n",
            "False\n",
            "False\n",
            "False\n",
            "False\n",
            "False\n",
            "False\n",
            "False\n",
            "False\n",
            "False\n",
            "False\n",
            "False\n",
            "False\n",
            "False\n",
            "False\n",
            "False\n",
            "False\n",
            "False\n",
            "False\n",
            "False\n",
            "False\n",
            "False\n",
            "False\n",
            "False\n",
            "False\n",
            "False\n",
            "False\n",
            "False\n",
            "False\n",
            "False\n",
            "False\n",
            "False\n",
            "False\n",
            "False\n",
            "False\n",
            "False\n",
            "False\n",
            "False\n",
            "False\n",
            "False\n",
            "False\n",
            "False\n",
            "False\n",
            "False\n",
            "False\n",
            "False\n",
            "False\n",
            "False\n",
            "False\n",
            "False\n",
            "False\n",
            "False\n",
            "False\n",
            "False\n",
            "False\n",
            "False\n",
            "False\n",
            "False\n",
            "False\n",
            "False\n",
            "False\n",
            "False\n",
            "False\n",
            "False\n",
            "False\n",
            "False\n",
            "False\n",
            "False\n",
            "False\n",
            "False\n",
            "False\n",
            "False\n",
            "False\n",
            "False\n",
            "False\n",
            "False\n",
            "False\n",
            "False\n",
            "False\n",
            "False\n",
            "False\n",
            "False\n",
            "False\n",
            "False\n",
            "False\n",
            "False\n",
            "False\n",
            "False\n",
            "False\n",
            "False\n",
            "False\n",
            "False\n",
            "False\n",
            "False\n",
            "False\n",
            "False\n",
            "False\n",
            "False\n",
            "False\n",
            "False\n",
            "False\n",
            "False\n",
            "False\n",
            "False\n",
            "False\n",
            "False\n",
            "False\n",
            "False\n",
            "False\n",
            "False\n",
            "False\n",
            "False\n",
            "False\n",
            "False\n",
            "False\n",
            "False\n",
            "False\n",
            "False\n",
            "False\n",
            "False\n",
            "False\n",
            "False\n",
            "False\n",
            "False\n",
            "False\n",
            "False\n",
            "False\n",
            "False\n",
            "False\n",
            "False\n",
            "False\n",
            "False\n",
            "False\n",
            "False\n",
            "False\n",
            "False\n",
            "False\n",
            "False\n",
            "False\n",
            "False\n",
            "False\n",
            "False\n",
            "False\n",
            "False\n",
            "False\n",
            "False\n",
            "False\n",
            "False\n",
            "False\n",
            "False\n",
            "False\n",
            "False\n",
            "False\n",
            "False\n",
            "False\n",
            "False\n",
            "False\n",
            "False\n",
            "False\n",
            "False\n",
            "False\n",
            "False\n",
            "False\n",
            "False\n",
            "False\n",
            "False\n",
            "False\n",
            "False\n",
            "False\n",
            "False\n",
            "False\n",
            "False\n",
            "False\n",
            "False\n",
            "False\n",
            "False\n",
            "False\n",
            "False\n",
            "False\n",
            "False\n",
            "False\n",
            "False\n",
            "False\n",
            "False\n",
            "False\n",
            "False\n",
            "False\n",
            "False\n",
            "False\n",
            "False\n",
            "False\n",
            "False\n",
            "False\n",
            "False\n",
            "True\n",
            "True\n",
            "True\n",
            "True\n",
            "True\n",
            "True\n",
            "True\n",
            "True\n",
            "True\n",
            "True\n",
            "True\n",
            "True\n",
            "True\n",
            "True\n",
            "True\n",
            "True\n",
            "True\n",
            "True\n",
            "True\n",
            "True\n",
            "True\n",
            "True\n",
            "True\n",
            "True\n",
            "True\n",
            "True\n",
            "True\n",
            "True\n",
            "True\n",
            "True\n",
            "True\n"
          ]
        }
      ]
    },
    {
      "cell_type": "code",
      "source": [
        "# recompile after alteration\n",
        "model_0.compile(optimizer=tf.keras.optimizers.Adam(),\n",
        "                loss=tf.keras.losses.categorical_crossentropy,\n",
        "                metrics=[\"accuracy\"])"
      ],
      "metadata": {
        "id": "f3-Xdl_ctQRY"
      },
      "execution_count": 24,
      "outputs": []
    },
    {
      "cell_type": "code",
      "source": [
        "# fine tune the model for 5 more epochs\n",
        "fine_tune_epochs = 15\n",
        "\n",
        "history_2 = model_0.fit(train_data, steps_per_epoch=len(train_data), epochs=15, \n",
        "                        initial_epoch=history_0.epoch[-1],\n",
        "                        validation_data=test_data, validation_steps=len(test_data))"
      ],
      "metadata": {
        "colab": {
          "base_uri": "https://localhost:8080/"
        },
        "id": "Tb4sRhBEtc3_",
        "outputId": "1aaa9c17-1b05-487a-8ab5-2b0afb7f842a"
      },
      "execution_count": 25,
      "outputs": [
        {
          "output_type": "stream",
          "name": "stdout",
          "text": [
            "Epoch 10/15\n",
            "24/24 [==============================] - 22s 655ms/step - loss: 0.8427 - accuracy: 0.8200 - val_loss: 0.5197 - val_accuracy: 0.8376\n",
            "Epoch 11/15\n",
            "24/24 [==============================] - 14s 576ms/step - loss: 0.6657 - accuracy: 0.8853 - val_loss: 0.4880 - val_accuracy: 0.8524\n",
            "Epoch 12/15\n",
            "24/24 [==============================] - 14s 573ms/step - loss: 0.5813 - accuracy: 0.9013 - val_loss: 0.4913 - val_accuracy: 0.8444\n",
            "Epoch 13/15\n",
            "24/24 [==============================] - 14s 576ms/step - loss: 0.4910 - accuracy: 0.9227 - val_loss: 0.4949 - val_accuracy: 0.8408\n",
            "Epoch 14/15\n",
            "24/24 [==============================] - 14s 573ms/step - loss: 0.4537 - accuracy: 0.9213 - val_loss: 0.5038 - val_accuracy: 0.8352\n",
            "Epoch 15/15\n",
            "24/24 [==============================] - 14s 575ms/step - loss: 0.4046 - accuracy: 0.9267 - val_loss: 0.5052 - val_accuracy: 0.8384\n"
          ]
        }
      ]
    },
    {
      "cell_type": "code",
      "source": [
        "# observe model's performance\n",
        "plot_loss(history_2)\n"
      ],
      "metadata": {
        "colab": {
          "base_uri": "https://localhost:8080/",
          "height": 573
        },
        "id": "UGmRgcHQuenu",
        "outputId": "1ed9e4fe-ed07-4f63-b687-8dffdb7a5b31"
      },
      "execution_count": 26,
      "outputs": [
        {
          "output_type": "display_data",
          "data": {
            "image/png": "[encoded data removed]",
            "text/plain": [
              "<Figure size 432x288 with 1 Axes>"
            ]
          },
          "metadata": {
            "needs_background": "light"
          }
        },
        {
          "output_type": "display_data",
          "data": {
            "image/png": "[encoded data removed]",
            "text/plain": [
              "<Figure size 432x288 with 1 Axes>"
            ]
          },
          "metadata": {
            "needs_background": "light"
          }
        }
      ]
    },
    {
      "cell_type": "code",
      "source": [
        "# compare 30 layers vs 20 layers\n",
        "compare_performace(history_1, history_2)"
      ],
      "metadata": {
        "colab": {
          "base_uri": "https://localhost:8080/",
          "height": 573
        },
        "id": "HTjw6y-ywO3h",
        "outputId": "9b79f724-0326-4960-859d-1c0be9b54098"
      },
      "execution_count": 28,
      "outputs": [
        {
          "output_type": "display_data",
          "data": {
            "image/png": "[encoded data removed]",
            "text/plain": [
              "<Figure size 432x288 with 1 Axes>"
            ]
          },
          "metadata": {
            "needs_background": "light"
          }
        },
        {
          "output_type": "display_data",
          "data": {
            "image/png": "[encoded data removed]",
            "text/plain": [
              "<Figure size 432x288 with 1 Axes>"
            ]
          },
          "metadata": {
            "needs_background": "light"
          }
        }
      ]
    }
  ]
}