{
  "nbformat": 4,
  "nbformat_minor": 0,
  "metadata": {
    "colab": {
      "name": "abstract_ordening.ipynb",
      "provenance": [],
      "collapsed_sections": []
    },
    "kernelspec": {
      "name": "python3",
      "display_name": "Python 3"
    },
    "language_info": {
      "name": "python"
    },
    "accelerator": "GPU"
  },
  "cells": [
    {
      "cell_type": "markdown",
      "source": [
        "# Abstract ordening neural netowrk testing\n",
        "This neural networks's job is to order and differentiate an abstract, recognizing objective, methods, results, conclusions from a single abstract.\n",
        "Using CNNs, vectorizing and embedding of the strings\n"
      ],
      "metadata": {
        "id": "6HMDUipUJbGG"
      }
    },
    {
      "cell_type": "markdown",
      "source": [
        "## Helper functions\n",
        "- convert txt to list of dictionaries\n",
        "- calculate performance of model\n",
        "- fitting model function\n",
        "- splitting a sentence into chars\n",
        "\n"
      ],
      "metadata": {
        "id": "96N4jO-TLpUj"
      }
    },
    {
      "cell_type": "code",
      "source": [
        "def from_text_to_dict(text_dir):\n",
        "  \"\"\"\n",
        "  Imports from the directory, separates and turns into\n",
        "  list of dictionaries as seen here\n",
        "  -> list of dicts = [{\"line num\": 0,\n",
        "    \"text\": \"fdksldkfm\",\n",
        "    \"target\": \"BACKGROUND\",\n",
        "    \"lines_per_paper\": 11}\n",
        "    ...]\n",
        "  \"\"\"\n",
        "  with open(text_dir) as t:\n",
        "    # get list of each line\n",
        "    lines = t.readlines()\n",
        "    \n",
        "    # get each abstract in a list, convert to a list of lists\n",
        "    counter = 0\n",
        "    abstracts = []\n",
        "    abstract = []\n",
        "    for line in lines:\n",
        "      # line with len == 1 is abstract separator\n",
        "      if len(line) == 1:\n",
        "        abstracts.append(abstract)\n",
        "        abstract = []\n",
        "      else:\n",
        "        # do not append abstract number\n",
        "        if line[0] != \"#\":\n",
        "          abstract.append(line)\n",
        "    \n",
        "    # dictionary to return\n",
        "    list_of_dicts = []\n",
        "\n",
        "    for a in abstracts:\n",
        "      total_lines = len(a)\n",
        "      # get all the sentences\n",
        "      for i, sentence in enumerate(a):\n",
        "        # separate label from sentence\n",
        "        separated = \"\".join(sentence).split(\"\\t\")\n",
        "        # get info in dictionary\n",
        "        helper = {\n",
        "            \"line_num\": i,\n",
        "            \"sentence\": separated[1],\n",
        "            \"target\": separated[0],\n",
        "            \"lines_per_abstract\": total_lines - 1\n",
        "        }\n",
        "        # append to list\n",
        "        list_of_dicts.append(helper)\n",
        "\n",
        "    return list_of_dicts\n"
      ],
      "metadata": {
        "id": "RzMJPk9qLotn"
      },
      "execution_count": 1,
      "outputs": []
    },
    {
      "cell_type": "code",
      "source": [
        "def calculate_result(prediction, labels):\n",
        "  \"\"\"\n",
        "  Calculates f1-score, accuracy, precision and recall.\n",
        "  Returns dictionary with said information.\n",
        "  \"\"\"\n",
        "  from sklearn.metrics import accuracy_score, precision_recall_fscore_support\n",
        "  \n",
        "  # Calculate model accuracy\n",
        "  model_accuracy = accuracy_score(prediction, labels) * 100\n",
        "  # Calculate model precision, recall and f1 score using \"weighted average\n",
        "  model_precision, model_recall, model_f1, _ = precision_recall_fscore_support(prediction, labels, average=\"weighted\")\n",
        "  model_results = {\"accuracy\": model_accuracy,\n",
        "                  \"precision\": model_precision,\n",
        "                  \"recall\": model_recall,\n",
        "                  \"f1\": model_f1}\n",
        "  return model_results\n",
        "\n",
        "  return result_dict"
      ],
      "metadata": {
        "id": "-XPsaIM0PJLx"
      },
      "execution_count": 2,
      "outputs": []
    },
    {
      "cell_type": "code",
      "source": [
        "def fit_model(model):\n",
        "  \"\"\"\n",
        "  Fits the model and returns the history of the \n",
        "  fitting.\n",
        "  \"\"\"\n",
        "\n",
        "  history = model.fit(train_dataset, epochs=5, steps_per_epoch=int(0.2*len(train_dataset)),\n",
        "                     validation_data=validation_dataset, validation_steps=int(0.2*len(validation_dataset)))\n",
        "  \n",
        "  return history"
      ],
      "metadata": {
        "id": "5KNUatDU2453"
      },
      "execution_count": 3,
      "outputs": []
    },
    {
      "cell_type": "code",
      "source": [
        "def split_characters(sentence):\n",
        "  \"\"\" \n",
        "  Returns the a string of space-separated characters \n",
        "  of the original sentnce.\n",
        "  \"\"\"\n",
        "\n",
        "  return \" \".join(list(sentence))"
      ],
      "metadata": {
        "id": "LeFNZzjs9OG-"
      },
      "execution_count": 4,
      "outputs": []
    },
    {
      "cell_type": "markdown",
      "source": [
        "## Data Preprocessing"
      ],
      "metadata": {
        "id": "ni-8x0oCKd1i"
      }
    },
    {
      "cell_type": "code",
      "execution_count": 5,
      "metadata": {
        "colab": {
          "base_uri": "https://localhost:8080/"
        },
        "id": "DM8lq3BvJB-U",
        "outputId": "826ab3a8-cec4-4990-acd0-ed63e5cb9f33"
      },
      "outputs": [
        {
          "output_type": "stream",
          "name": "stdout",
          "text": [
            "Cloning into 'pubmed-rct'...\n",
            "remote: Enumerating objects: 33, done.\u001b[K\n",
            "remote: Counting objects: 100% (3/3), done.\u001b[K\n",
            "remote: Compressing objects: 100% (3/3), done.\u001b[K\n",
            "remote: Total 33 (delta 0), reused 0 (delta 0), pack-reused 30\u001b[K\n",
            "Unpacking objects: 100% (33/33), done.\n",
            "Checking out files: 100% (13/13), done.\n",
            "PubMed_200k_RCT\n",
            "PubMed_200k_RCT_numbers_replaced_with_at_sign\n",
            "PubMed_20k_RCT\n",
            "PubMed_20k_RCT_numbers_replaced_with_at_sign\n",
            "README.md\n"
          ]
        }
      ],
      "source": [
        "# get the data (Google Colab way)\n",
        "!git clone https://github.com/Franck-Dernoncourt/pubmed-rct.git\n",
        "!ls pubmed-rct"
      ]
    },
    {
      "cell_type": "code",
      "source": [
        "# import data from folder to instance\n",
        "import pandas as pd\n",
        "train_data = from_text_to_dict(\"/content/pubmed-rct/PubMed_20k_RCT_numbers_replaced_with_at_sign/train.txt\")\n",
        "test_data = from_text_to_dict(\"/content/pubmed-rct/PubMed_20k_RCT_numbers_replaced_with_at_sign/test.txt\")\n",
        "validation_data = from_text_to_dict(\"/content/pubmed-rct/PubMed_20k_RCT_numbers_replaced_with_at_sign/dev.txt\")\n",
        "\n",
        "# convert to dataframes\n",
        "train_data_dataframe = pd.DataFrame(train_data)\n",
        "test_data_dataframe = pd.DataFrame(test_data)\n",
        "validation_data_dataframe = pd.DataFrame(validation_data)\n",
        "\n",
        "# observe result\n",
        "# train_data_dataframe.head(12)"
      ],
      "metadata": {
        "id": "HX9IYj40LHPe"
      },
      "execution_count": 6,
      "outputs": []
    },
    {
      "cell_type": "code",
      "source": [
        "train_data[0]"
      ],
      "metadata": {
        "colab": {
          "base_uri": "https://localhost:8080/"
        },
        "id": "P3Qn_PWFW6Du",
        "outputId": "d2e044d0-1252-4c19-873b-deeba74e434c"
      },
      "execution_count": 34,
      "outputs": [
        {
          "output_type": "execute_result",
          "data": {
            "text/plain": [
              "{'line_num': 0,\n",
              " 'lines_per_abstract': 11,\n",
              " 'sentence': 'To investigate the efficacy of @ weeks of daily low-dose oral prednisolone in improving pain , mobility , and systemic low-grade inflammation in the short term and whether the effect would be sustained at @ weeks in older adults with moderate to severe knee osteoarthritis ( OA ) .\\n',\n",
              " 'target': 'OBJECTIVE'}"
            ]
          },
          "metadata": {},
          "execution_count": 34
        }
      ]
    },
    {
      "cell_type": "code",
      "source": [
        "# get lists of all sentences \n",
        "train_sentences = train_data_dataframe[\"sentence\"].tolist()\n",
        "test_sentences = test_data_dataframe[\"sentence\"].tolist()\n",
        "validation_sentences = validation_data_dataframe[\"sentence\"].tolist()"
      ],
      "metadata": {
        "id": "iZSDi0cpZH58"
      },
      "execution_count": 7,
      "outputs": []
    },
    {
      "cell_type": "code",
      "source": [
        "# one hot encode labels \n",
        "from sklearn.preprocessing import OneHotEncoder\n",
        "one_hot_encoder = OneHotEncoder(sparse=False)\n",
        "train_labels_ohe = one_hot_encoder.fit_transform(train_data_dataframe[\"target\"].to_numpy().reshape(-1, 1)) # first one is fitted to data\n",
        "test_labels_ohe = one_hot_encoder.transform(test_data_dataframe[\"target\"].to_numpy().reshape(-1, 1)) \n",
        "validation_labels_ohe = one_hot_encoder.transform(validation_data_dataframe[\"target\"].to_numpy().reshape(-1, 1))\n",
        "\n",
        "# observe results\n",
        "# train_labels_ohe"
      ],
      "metadata": {
        "id": "szprgfsGZzoR"
      },
      "execution_count": 8,
      "outputs": []
    },
    {
      "cell_type": "code",
      "source": [
        "# label encode labels, encode to integers [0, ... , number_of_classes]\n",
        "from sklearn.preprocessing import LabelEncoder\n",
        "label_encoder = LabelEncoder()\n",
        "train_labels_encoded = label_encoder.fit_transform(train_data_dataframe[\"target\"].to_numpy()) # first one is fitted to data\n",
        "test_labels_encoded = label_encoder.fit_transform(test_data_dataframe[\"target\"].to_numpy())\n",
        "validation_labels_encoded = label_encoder.fit_transform(validation_data_dataframe[\"target\"].to_numpy())\n",
        "\n",
        "# observe results\n",
        "# train_labels_encoded"
      ],
      "metadata": {
        "id": "Flmf35b-fxyH"
      },
      "execution_count": 9,
      "outputs": []
    },
    {
      "cell_type": "code",
      "source": [
        "# get name and ammount of labels\n",
        "num_labels = len(label_encoder.classes_)\n",
        "labels = label_encoder.classes_"
      ],
      "metadata": {
        "id": "hpZsIHN2gydQ"
      },
      "execution_count": 10,
      "outputs": []
    },
    {
      "cell_type": "code",
      "source": [
        "label_encoder.classes_"
      ],
      "metadata": {
        "colab": {
          "base_uri": "https://localhost:8080/"
        },
        "id": "WXXed3GiTBSe",
        "outputId": "815ed605-a041-4bcc-8ee0-c31f0bbc8484"
      },
      "execution_count": 11,
      "outputs": [
        {
          "output_type": "execute_result",
          "data": {
            "text/plain": [
              "array(['BACKGROUND', 'CONCLUSIONS', 'METHODS', 'OBJECTIVE', 'RESULTS'],\n",
              "      dtype=object)"
            ]
          },
          "metadata": {},
          "execution_count": 11
        }
      ]
    },
    {
      "cell_type": "code",
      "source": [
        "# define embedding information\n",
        "import tensorflow as tf\n",
        "import numpy as np\n",
        "from tensorflow.keras import layers\n",
        "import matplotlib.pyplot as plt\n",
        "\n",
        "# find average of sentence length in training sentences\n",
        "sentence_lengths = [len(sentence.split()) for sentence in train_sentences]\n",
        "avg_sentence_length = np.round(np.average(sentence_lengths))\n",
        "# avg_sentence_length \n",
        "# average is 26 -- \n",
        "\n",
        "# observe sentences lengths' distribution\n",
        "plt.hist(sentence_lengths, bins=20);\n",
        "# ~95% are from 0 - ~60\n",
        "# assert observation\n",
        "most_s_lens = int(np.percentile(sentence_lengths, 95))\n",
        "print(f\"assertion -> {most_s_lens}\")\n",
        "# 95% are 55"
      ],
      "metadata": {
        "colab": {
          "base_uri": "https://localhost:8080/",
          "height": 282
        },
        "id": "TgXrRuxzhGh4",
        "outputId": "6b1202dc-56fa-4855-91ff-b7b64e6d62b1"
      },
      "execution_count": 12,
      "outputs": [
        {
          "output_type": "stream",
          "name": "stdout",
          "text": [
            "assertion -> 55\n"
          ]
        },
        {
          "output_type": "display_data",
          "data": {
            "image/png": "[encoded data removed]",
            "text/plain": [
              "<Figure size 432x288 with 1 Axes>"
            ]
          },
          "metadata": {
            "needs_background": "light"
          }
        }
      ]
    },
    {
      "cell_type": "code",
      "source": [
        "# create tensorflow datasets\n",
        "train_dataset = tf.data.Dataset.from_tensor_slices((train_sentences, train_labels_ohe))\n",
        "test_dataset = tf.data.Dataset.from_tensor_slices((test_sentences, test_labels_ohe))\n",
        "validation_dataset = tf.data.Dataset.from_tensor_slices((validation_sentences, validation_labels_ohe))\n",
        "\n",
        "train_dataset = train_dataset.batch(32).prefetch(tf.data.AUTOTUNE)\n",
        "validation_dataset = validation_dataset.batch(32).prefetch(tf.data.AUTOTUNE)\n",
        "test_dataset = test_dataset.batch(32).prefetch(tf.data.AUTOTUNE)"
      ],
      "metadata": {
        "id": "nucU8luRaOye"
      },
      "execution_count": 13,
      "outputs": []
    },
    {
      "cell_type": "code",
      "source": [
        "# split sequence-level data split into character-level data splits\n",
        "train_chars = [split_characters(sentence) for sentence in train_sentences]\n",
        "validation_chars = [split_characters(sentence) for sentence in validation_sentences]\n",
        "test_chars = [split_characters(sentence) for sentence in test_sentences]"
      ],
      "metadata": {
        "id": "kJByenQU9B-y"
      },
      "execution_count": 14,
      "outputs": []
    },
    {
      "cell_type": "code",
      "source": [
        "# define char embedding information\n",
        "# find average length of sentences\n",
        "chars_lens = [len(split_characters(sentence)) for sentence in train_sentences]\n",
        "avg_chars_sentence = np.round(np.average(chars_lens))\n",
        "# avg_chars_sentence\n",
        "# average is 300 chars/sentence\n",
        "\n",
        "# observe chars distribution in training sentences\n",
        "plt.hist(chars_lens, bins=20);\n",
        "# 95% are from 0 - ~510\n",
        "\n",
        "# assert observation\n",
        "most_c_lens = np.percentile(chars_lens, 95)\n",
        "print(f\"assertion -> {most_c_lens}\")\n",
        "# 95% are 581"
      ],
      "metadata": {
        "colab": {
          "base_uri": "https://localhost:8080/",
          "height": 282
        },
        "id": "Zb4M_gOw97C1",
        "outputId": "0847bc76-4ff4-4dd4-dc41-971a0b099da0"
      },
      "execution_count": 15,
      "outputs": [
        {
          "output_type": "stream",
          "name": "stdout",
          "text": [
            "assertion -> 581.0\n"
          ]
        },
        {
          "output_type": "display_data",
          "data": {
            "image/png": "[encoded data removed]",
            "text/plain": [
              "<Figure size 432x288 with 1 Axes>"
            ]
          },
          "metadata": {
            "needs_background": "light"
          }
        }
      ]
    },
    {
      "cell_type": "code",
      "source": [
        "# get all keyboard chars, ammount\n",
        "import string\n",
        "alphabet = string.ascii_lowercase + string.digits + string.punctuation\n",
        "alpha_len = len(alphabet)"
      ],
      "metadata": {
        "id": "ukQiRmdUAhM-"
      },
      "execution_count": 16,
      "outputs": []
    },
    {
      "cell_type": "code",
      "source": [
        "# create hybrid datasets\n",
        "train_data_char_sentence = tf.data.Dataset.from_tensor_slices((train_sentences, train_chars)) # data has to be in the SAME order as constructed\n",
        "train_labels_char_sentence = tf.data.Dataset.from_tensor_slices((train_labels_ohe))\n",
        "train_dataset_hybrid = tf.data.Dataset.zip((train_data_char_sentence, train_labels_char_sentence)) # combine into single training dataset\n",
        "\n",
        "validation_data_char_sentence = tf.data.Dataset.from_tensor_slices((validation_sentences, validation_chars)) # data has to be in the SAME order as constructed\n",
        "validation_labels_char_sentence = tf.data.Dataset.from_tensor_slices((validation_labels_ohe))\n",
        "validation_dataset_hybrid = tf.data.Dataset.zip((validation_data_char_sentence, validation_labels_char_sentence)) # combine into single training dataset\n",
        "\n",
        "train_data_char_sentence = train_data_char_sentence.batch(32).prefetch(tf.data.AUTOTUNE)\n",
        "train_labels_char_sentence = train_labels_char_sentence.batch(32).prefetch(tf.data.AUTOTUNE)\n",
        "train_dataset_hybrid = train_dataset_hybrid.batch(32).prefetch(tf.data.AUTOTUNE)\n",
        "validation_data_char_sentence = validation_data_char_sentence.batch(32).prefetch(tf.data.AUTOTUNE)\n",
        "validation_labels_char_sentence = validation_labels_char_sentence.batch(32).prefetch(tf.data.AUTOTUNE)\n",
        "validation_dataset_hybrid = validation_dataset_hybrid.batch(32).prefetch(tf.data.AUTOTUNE)"
      ],
      "metadata": {
        "id": "-Y06wdAPr3go"
      },
      "execution_count": 17,
      "outputs": []
    },
    {
      "cell_type": "code",
      "source": [
        "# index one-hot-encoding \n",
        "# get the best number of lines in abstracts\n",
        "train_data_dataframe.line_num.plot.hist(bins=20)\n",
        "# 18 gets around 90%\n",
        "\n",
        "train_index_ohe = tf.one_hot(train_data_dataframe[\"line_num\"].to_numpy(), depth=18)\n",
        "validation_index_ohe = tf.one_hot(validation_data_dataframe[\"line_num\"].to_numpy(), depth=18)\n",
        "test_index_ohe = tf.one_hot(test_data_dataframe[\"line_num\"].to_numpy(), depth=18)\n",
        "\n",
        "# use the same number for total lines in abstract\n",
        "train_total_ohe = tf.one_hot(train_data_dataframe[\"lines_per_abstract\"].to_numpy(), depth=18)\n",
        "validation_total_ohe = tf.one_hot(validation_data_dataframe[\"lines_per_abstract\"].to_numpy(), depth=18)\n",
        "test_total_ohe = tf.one_hot(test_data_dataframe[\"lines_per_abstract\"].to_numpy(), depth=18)"
      ],
      "metadata": {
        "colab": {
          "base_uri": "https://localhost:8080/",
          "height": 265
        },
        "id": "nnR7PedoCVRc",
        "outputId": "a15b03fb-650b-4e82-bec2-636c94162b15"
      },
      "execution_count": 18,
      "outputs": [
        {
          "output_type": "display_data",
          "data": {
            "image/png": "[encoded data removed]",
            "text/plain": [
              "<Figure size 432x288 with 1 Axes>"
            ]
          },
          "metadata": {
            "needs_background": "light"
          }
        }
      ]
    },
    {
      "cell_type": "code",
      "source": [
        "# create tri-hybrid datasets\n",
        "train_sentence_idx_tot = tf.data.Dataset.from_tensor_slices((train_index_ohe, train_total_ohe, train_sentences))\n",
        "train_sentence_idx_tot_labels = tf.data.Dataset.from_tensor_slices(train_labels_ohe)\n",
        "train_tribrid_dataset = tf.data.Dataset.zip((train_sentence_idx_tot, train_sentence_idx_tot_labels))\n",
        "train_tribrid_dataset = train_tribrid_dataset.batch(32).prefetch(tf.data.AUTOTUNE)\n",
        "\n",
        "train_sentence_idx_tot_val = tf.data.Dataset.from_tensor_slices((validation_index_ohe, validation_total_ohe, validation_sentences))\n",
        "train_sentence_idx_tot_labels_val = tf.data.Dataset.from_tensor_slices(validation_labels_ohe)\n",
        "validation_tribrid_dataset = tf.data.Dataset.zip((train_sentence_idx_tot, train_sentence_idx_tot_labels))\n",
        "validation_tribrid_dataset = validation_tribrid_dataset.batch(32).prefetch(tf.data.AUTOTUNE)"
      ],
      "metadata": {
        "id": "iIDi5tZkCERs"
      },
      "execution_count": 19,
      "outputs": []
    },
    {
      "cell_type": "markdown",
      "source": [
        "## Useful Keras Layers\n",
        "- Word vectorization layer\n",
        "- Embedding layer\n",
        "- Character vectorization layer"
      ],
      "metadata": {
        "id": "XktF0qZvj0mX"
      }
    },
    {
      "cell_type": "code",
      "source": [
        "# vectorization layer \n",
        "# ammount of tokens (https://arxiv.org/pdf/1710.06071.pdf page 3)\n",
        "max_tokens = 68000\n",
        "# create vectorization layer\n",
        "text_vectorization_layer = tf.keras.layers.experimental.preprocessing.TextVectorization(max_tokens=max_tokens, # vocabulary length of train data\n",
        "                                                                                        output_sequence_length=most_s_lens) # accomodate for 95%\n",
        "\n",
        "# adapt to dataset\n",
        "text_vectorization_layer.adapt(train_sentences)\n",
        "\n",
        "# test on random sentence and observe shape\n",
        "sample = \"this is a test made for this experiment\"\n",
        "print(text_vectorization_layer([sample]))\n"
      ],
      "metadata": {
        "colab": {
          "base_uri": "https://localhost:8080/"
        },
        "id": "4Xml1pWgiqou",
        "outputId": "2c9ad7a5-350b-49a0-d949-3b4c193dbc3c"
      },
      "execution_count": 20,
      "outputs": [
        {
          "output_type": "stream",
          "name": "stdout",
          "text": [
            "tf.Tensor(\n",
            "[[  23   20    8  128 1050   11   23 2552    0    0    0    0    0    0\n",
            "     0    0    0    0    0    0    0    0    0    0    0    0    0    0\n",
            "     0    0    0    0    0    0    0    0    0    0    0    0    0    0\n",
            "     0    0    0    0    0    0    0    0    0    0    0    0    0]], shape=(1, 55), dtype=int64)\n"
          ]
        }
      ]
    },
    {
      "cell_type": "code",
      "source": [
        "# embedding layer\n",
        "# get vocabulary\n",
        "data_vocabulary = text_vectorization_layer.get_vocabulary()\n",
        "token_embedding_layer = layers.Embedding(input_dim=len(data_vocabulary), output_dim=128,\n",
        "                                                       mask_zero=True, name=\"token_embedding_layer\")\n",
        "# observe result\n",
        "print(token_embedding_layer(text_vectorization_layer([sample])))\n",
        "# shape must be 1 sentence, 55 tokens, 128 embedding-per-token"
      ],
      "metadata": {
        "colab": {
          "base_uri": "https://localhost:8080/"
        },
        "id": "BCUxey6mlQe4",
        "outputId": "60a293e0-04db-43ab-8c95-ec93b5869f96"
      },
      "execution_count": 21,
      "outputs": [
        {
          "output_type": "stream",
          "name": "stdout",
          "text": [
            "tf.Tensor(\n",
            "[[[ 0.04322379  0.01551266 -0.00571982 ...  0.00481644  0.04445176\n",
            "   -0.00235121]\n",
            "  [ 0.02555771  0.02199808 -0.04634216 ...  0.00566559  0.00549475\n",
            "    0.03073646]\n",
            "  [-0.01232402  0.00915813 -0.02863557 ...  0.02851471 -0.00616484\n",
            "   -0.03210302]\n",
            "  ...\n",
            "  [-0.01429086  0.03403969  0.01062155 ...  0.03385184 -0.04312538\n",
            "   -0.04870063]\n",
            "  [-0.01429086  0.03403969  0.01062155 ...  0.03385184 -0.04312538\n",
            "   -0.04870063]\n",
            "  [-0.01429086  0.03403969  0.01062155 ...  0.03385184 -0.04312538\n",
            "   -0.04870063]]], shape=(1, 55, 128), dtype=float32)\n"
          ]
        }
      ]
    },
    {
      "cell_type": "code",
      "source": [
        "# character vectorization layer\n",
        "max_char_tokens = alpha_len + 2 # add space and OOV\n",
        "character_vectorization_layer = tf.keras.layers.TextVectorization(max_tokens=max_char_tokens, # chars lens in alphabet\n",
        "                                                         output_sequence_length=int(most_c_lens), # accomodate for 95%\n",
        "                                                         standardize=\"lower_and_strip_punctuation\") \n",
        "\n",
        "# adapt to dataset\n",
        "character_vectorization_layer.adapt(train_chars)\n",
        "\n",
        "# test on random sentence and observe shape\n",
        "sample_c = \"A f t e r   @ m o n t h s\"\n",
        "print(character_vectorization_layer([sample_c]))"
      ],
      "metadata": {
        "colab": {
          "base_uri": "https://localhost:8080/"
        },
        "id": "P37JQkYOBJ69",
        "outputId": "b96d3cfe-3cdd-4edf-d85d-48c2282b2fdd"
      },
      "execution_count": 22,
      "outputs": [
        {
          "output_type": "stream",
          "name": "stdout",
          "text": [
            "tf.Tensor(\n",
            "[[ 5 17  3  2  8 15  7  6  3 13  9  0  0  0  0  0  0  0  0  0  0  0  0  0\n",
            "   0  0  0  0  0  0  0  0  0  0  0  0  0  0  0  0  0  0  0  0  0  0  0  0\n",
            "   0  0  0  0  0  0  0  0  0  0  0  0  0  0  0  0  0  0  0  0  0  0  0  0\n",
            "   0  0  0  0  0  0  0  0  0  0  0  0  0  0  0  0  0  0  0  0  0  0  0  0\n",
            "   0  0  0  0  0  0  0  0  0  0  0  0  0  0  0  0  0  0  0  0  0  0  0  0\n",
            "   0  0  0  0  0  0  0  0  0  0  0  0  0  0  0  0  0  0  0  0  0  0  0  0\n",
            "   0  0  0  0  0  0  0  0  0  0  0  0  0  0  0  0  0  0  0  0  0  0  0  0\n",
            "   0  0  0  0  0  0  0  0  0  0  0  0  0  0  0  0  0  0  0  0  0  0  0  0\n",
            "   0  0  0  0  0  0  0  0  0  0  0  0  0  0  0  0  0  0  0  0  0  0  0  0\n",
            "   0  0  0  0  0  0  0  0  0  0  0  0  0  0  0  0  0  0  0  0  0  0  0  0\n",
            "   0  0  0  0  0  0  0  0  0  0  0  0  0  0  0  0  0  0  0  0  0  0  0  0\n",
            "   0  0  0  0  0  0  0  0  0  0  0  0  0  0  0  0  0  0  0  0  0  0  0  0\n",
            "   0  0  0  0  0  0  0  0  0  0  0  0  0  0  0  0  0  0  0  0  0  0  0  0\n",
            "   0  0  0  0  0  0  0  0  0  0  0  0  0  0  0  0  0  0  0  0  0  0  0  0\n",
            "   0  0  0  0  0  0  0  0  0  0  0  0  0  0  0  0  0  0  0  0  0  0  0  0\n",
            "   0  0  0  0  0  0  0  0  0  0  0  0  0  0  0  0  0  0  0  0  0  0  0  0\n",
            "   0  0  0  0  0  0  0  0  0  0  0  0  0  0  0  0  0  0  0  0  0  0  0  0\n",
            "   0  0  0  0  0  0  0  0  0  0  0  0  0  0  0  0  0  0  0  0  0  0  0  0\n",
            "   0  0  0  0  0  0  0  0  0  0  0  0  0  0  0  0  0  0  0  0  0  0  0  0\n",
            "   0  0  0  0  0  0  0  0  0  0  0  0  0  0  0  0  0  0  0  0  0  0  0  0\n",
            "   0  0  0  0  0  0  0  0  0  0  0  0  0  0  0  0  0  0  0  0  0  0  0  0\n",
            "   0  0  0  0  0  0  0  0  0  0  0  0  0  0  0  0  0  0  0  0  0  0  0  0\n",
            "   0  0  0  0  0  0  0  0  0  0  0  0  0  0  0  0  0  0  0  0  0  0  0  0\n",
            "   0  0  0  0  0  0  0  0  0  0  0  0  0  0  0  0  0  0  0  0  0  0  0  0\n",
            "   0  0  0  0  0]], shape=(1, 581), dtype=int64)\n"
          ]
        }
      ]
    },
    {
      "cell_type": "code",
      "source": [
        "# character embedding layer\n",
        "# get character vocabulary\n",
        "char_vocab = character_vectorization_layer.get_vocabulary()\n",
        "character_embedding_layer = tf.keras.layers.Embedding(input_dim=len(char_vocab),\n",
        "                                                      output_dim=20, # paper fig 1\n",
        "                                                      mask_zero=True)\n",
        "\n",
        "# observe result\n",
        "print(character_embedding_layer(character_vectorization_layer([sample_c])))\n",
        "# shape must be 1 sentence, 581 tokens, 20 embedding-per-token"
      ],
      "metadata": {
        "colab": {
          "base_uri": "https://localhost:8080/"
        },
        "id": "gayQRURtDV6q",
        "outputId": "6f7be032-0021-40ab-d2e5-91031dc3fe1b"
      },
      "execution_count": 23,
      "outputs": [
        {
          "output_type": "stream",
          "name": "stdout",
          "text": [
            "tf.Tensor(\n",
            "[[[ 0.02178346 -0.031915    0.02053697 ... -0.00524558 -0.04439155\n",
            "    0.04902664]\n",
            "  [-0.00751108 -0.00986353 -0.02377131 ...  0.02044674 -0.04896079\n",
            "   -0.01680754]\n",
            "  [ 0.03930097 -0.01544137 -0.01673397 ... -0.00311076 -0.00621986\n",
            "   -0.00271805]\n",
            "  ...\n",
            "  [ 0.01493483  0.01522154  0.0468394  ...  0.01623854  0.01721411\n",
            "   -0.0323495 ]\n",
            "  [ 0.01493483  0.01522154  0.0468394  ...  0.01623854  0.01721411\n",
            "   -0.0323495 ]\n",
            "  [ 0.01493483  0.01522154  0.0468394  ...  0.01623854  0.01721411\n",
            "   -0.0323495 ]]], shape=(1, 581, 20), dtype=float32)\n"
          ]
        }
      ]
    },
    {
      "cell_type": "code",
      "source": [
        "train_data_dataframe.head(3)"
      ],
      "metadata": {
        "colab": {
          "base_uri": "https://localhost:8080/",
          "height": 143
        },
        "id": "NdBjbaxD9rIJ",
        "outputId": "7a290daa-da60-4d57-97c4-5495d24b3838"
      },
      "execution_count": 24,
      "outputs": [
        {
          "output_type": "execute_result",
          "data": {
            "text/html": [
              "\n",
              "  <div id=\"df-165e169c-9f5d-4717-ad9c-6a0ac0fa7faf\">\n",
              "    <div class=\"colab-df-container\">\n",
              "      <div>\n",
              "<style scoped>\n",
              "    .dataframe tbody tr th:only-of-type {\n",
              "        vertical-align: middle;\n",
              "    }\n",
              "\n",
              "    .dataframe tbody tr th {\n",
              "        vertical-align: top;\n",
              "    }\n",
              "\n",
              "    .dataframe thead th {\n",
              "        text-align: right;\n",
              "    }\n",
              "</style>\n",
              "<table border=\"1\" class=\"dataframe\">\n",
              "  <thead>\n",
              "    <tr style=\"text-align: right;\">\n",
              "      <th></th>\n",
              "      <th>line_num</th>\n",
              "      <th>sentence</th>\n",
              "      <th>target</th>\n",
              "      <th>lines_per_abstract</th>\n",
              "    </tr>\n",
              "  </thead>\n",
              "  <tbody>\n",
              "    <tr>\n",
              "      <th>0</th>\n",
              "      <td>0</td>\n",
              "      <td>To investigate the efficacy of @ weeks of dail...</td>\n",
              "      <td>OBJECTIVE</td>\n",
              "      <td>11</td>\n",
              "    </tr>\n",
              "    <tr>\n",
              "      <th>1</th>\n",
              "      <td>1</td>\n",
              "      <td>A total of @ patients with primary knee OA wer...</td>\n",
              "      <td>METHODS</td>\n",
              "      <td>11</td>\n",
              "    </tr>\n",
              "    <tr>\n",
              "      <th>2</th>\n",
              "      <td>2</td>\n",
              "      <td>Outcome measures included pain reduction and i...</td>\n",
              "      <td>METHODS</td>\n",
              "      <td>11</td>\n",
              "    </tr>\n",
              "  </tbody>\n",
              "</table>\n",
              "</div>\n",
              "      <button class=\"colab-df-convert\" onclick=\"convertToInteractive('df-165e169c-9f5d-4717-ad9c-6a0ac0fa7faf')\"\n",
              "              title=\"Convert this dataframe to an interactive table.\"\n",
              "              style=\"display:none;\">\n",
              "        \n",
              "  <svg xmlns=\"http://www.w3.org/2000/svg\" height=\"24px\"viewBox=\"0 0 24 24\"\n",
              "       width=\"24px\">\n",
              "    <path d=\"M0 0h24v24H0V0z\" fill=\"none\"/>\n",
              "    <path d=\"M18.56 5.44l.94 2.06.94-2.06 2.06-.94-2.06-.94-.94-2.06-.94 2.06-2.06.94zm-11 1L8.5 8.5l.94-2.06 2.06-.94-2.06-.94L8.5 2.5l-.94 2.06-2.06.94zm10 10l.94 2.06.94-2.06 2.06-.94-2.06-.94-.94-2.06-.94 2.06-2.06.94z\"/><path d=\"M17.41 7.96l-1.37-1.37c-.4-.4-.92-.59-1.43-.59-.52 0-1.04.2-1.43.59L10.3 9.45l-7.72 7.72c-.78.78-.78 2.05 0 2.83L4 21.41c.39.39.9.59 1.41.59.51 0 1.02-.2 1.41-.59l7.78-7.78 2.81-2.81c.8-.78.8-2.07 0-2.86zM5.41 20L4 18.59l7.72-7.72 1.47 1.35L5.41 20z\"/>\n",
              "  </svg>\n",
              "      </button>\n",
              "      \n",
              "  <style>\n",
              "    .colab-df-container {\n",
              "      display:flex;\n",
              "      flex-wrap:wrap;\n",
              "      gap: 12px;\n",
              "    }\n",
              "\n",
              "    .colab-df-convert {\n",
              "      background-color: #E8F0FE;\n",
              "      border: none;\n",
              "      border-radius: 50%;\n",
              "      cursor: pointer;\n",
              "      display: none;\n",
              "      fill: #1967D2;\n",
              "      height: 32px;\n",
              "      padding: 0 0 0 0;\n",
              "      width: 32px;\n",
              "    }\n",
              "\n",
              "    .colab-df-convert:hover {\n",
              "      background-color: #E2EBFA;\n",
              "      box-shadow: 0px 1px 2px rgba(60, 64, 67, 0.3), 0px 1px 3px 1px rgba(60, 64, 67, 0.15);\n",
              "      fill: #174EA6;\n",
              "    }\n",
              "\n",
              "    [theme=dark] .colab-df-convert {\n",
              "      background-color: #3B4455;\n",
              "      fill: #D2E3FC;\n",
              "    }\n",
              "\n",
              "    [theme=dark] .colab-df-convert:hover {\n",
              "      background-color: #434B5C;\n",
              "      box-shadow: 0px 1px 3px 1px rgba(0, 0, 0, 0.15);\n",
              "      filter: drop-shadow(0px 1px 2px rgba(0, 0, 0, 0.3));\n",
              "      fill: #FFFFFF;\n",
              "    }\n",
              "  </style>\n",
              "\n",
              "      <script>\n",
              "        const buttonEl =\n",
              "          document.querySelector('#df-165e169c-9f5d-4717-ad9c-6a0ac0fa7faf button.colab-df-convert');\n",
              "        buttonEl.style.display =\n",
              "          google.colab.kernel.accessAllowed ? 'block' : 'none';\n",
              "\n",
              "        async function convertToInteractive(key) {\n",
              "          const element = document.querySelector('#df-165e169c-9f5d-4717-ad9c-6a0ac0fa7faf');\n",
              "          const dataTable =\n",
              "            await google.colab.kernel.invokeFunction('convertToInteractive',\n",
              "                                                     [key], {});\n",
              "          if (!dataTable) return;\n",
              "\n",
              "          const docLinkHtml = 'Like what you see? Visit the ' +\n",
              "            '<a target=\"_blank\" href=https://colab.research.google.com/notebooks/data_table.ipynb>data table notebook</a>'\n",
              "            + ' to learn more about interactive tables.';\n",
              "          element.innerHTML = '';\n",
              "          dataTable['output_type'] = 'display_data';\n",
              "          await google.colab.output.renderOutput(dataTable, element);\n",
              "          const docLink = document.createElement('div');\n",
              "          docLink.innerHTML = docLinkHtml;\n",
              "          element.appendChild(docLink);\n",
              "        }\n",
              "      </script>\n",
              "    </div>\n",
              "  </div>\n",
              "  "
            ],
            "text/plain": [
              "   line_num  ... lines_per_abstract\n",
              "0         0  ...                 11\n",
              "1         1  ...                 11\n",
              "2         2  ...                 11\n",
              "\n",
              "[3 rows x 4 columns]"
            ]
          },
          "metadata": {},
          "execution_count": 24
        }
      ]
    },
    {
      "cell_type": "markdown",
      "source": [
        "## Models\n",
        "- model_0 -> tfidf model\n",
        "- model_1 -> recurrent neural network\n",
        "- model_2 -> LSTM model\n",
        "- model_3 -> bi-hybrid model (sentences and characters)\n",
        "- model_4 -> tri-hybrid model (sentences and line index)\n"
      ],
      "metadata": {
        "id": "zU5a03yfm_QU"
      }
    },
    {
      "cell_type": "code",
      "source": [
        "# model_0 \n",
        "from sklearn.feature_extraction.text import TfidfVectorizer\n",
        "from sklearn.naive_bayes import MultinomialNB\n",
        "from sklearn.pipeline import Pipeline\n",
        "\n",
        "# create model 0 as sklearn pipeline\n",
        "model_0 = Pipeline([\n",
        "  (\"tf_idf\", TfidfVectorizer()),\n",
        "  (\"clf\", MultinomialNB())\n",
        "])\n",
        "\n",
        "# fit the pipeline\n",
        "model_0.fit(X=train_sentences, y=train_labels_encoded)\n",
        "\n",
        "# evaluate pipeline\n",
        "model_0.score(X=validation_sentences, y=validation_labels_encoded)\n",
        "\n",
        "# predict with model\n",
        "pred_0 = model_0.predict(validation_sentences)\n",
        "\n",
        "# observe performance\n",
        "calculate_result(pred_0, validation_labels_encoded)"
      ],
      "metadata": {
        "colab": {
          "base_uri": "https://localhost:8080/"
        },
        "id": "KndFH6v0nF3k",
        "outputId": "7994c6d8-a676-42ee-e44c-de9b55e60c91"
      },
      "execution_count": 25,
      "outputs": [
        {
          "output_type": "execute_result",
          "data": {
            "text/plain": [
              "{'accuracy': 72.1832384482987,\n",
              " 'f1': 0.7447397336209445,\n",
              " 'precision': 0.7835634520695112,\n",
              " 'recall': 0.7218323844829869}"
            ]
          },
          "metadata": {},
          "execution_count": 25
        }
      ]
    },
    {
      "cell_type": "code",
      "source": [
        "# create model 1 as rnn\n",
        "from tensorflow.keras import layers\n",
        "\n",
        "inputs = layers.Input(shape=(1,), dtype=tf.string)\n",
        "# vectorizing and embedding layers\n",
        "o = text_vectorization_layer(inputs)\n",
        "o = token_embedding_layer(o)\n",
        "# rnn structure\n",
        "o = layers.GRU(128)(o)\n",
        "# output layer\n",
        "outputs = layers.Dense(num_labels, activation=\"softmax\")(o)\n",
        "\n",
        "# create model\n",
        "model_1 = tf.keras.Model(inputs, outputs)\n",
        "\n",
        "# compile the model\n",
        "model_1.compile(loss=tf.keras.losses.categorical_crossentropy,\n",
        "                optimizer=tf.keras.optimizers.Adam(),\n",
        "                metrics=[\"accuracy\"])\n",
        "\n",
        "# fit the model\n",
        "hist_1 = model_1.fit(train_dataset, epochs=5, steps_per_epoch=int(0.2*len(train_dataset)),\n",
        "                     validation_data=validation_dataset, validation_steps=int(0.2*len(validation_dataset)))"
      ],
      "metadata": {
        "colab": {
          "base_uri": "https://localhost:8080/"
        },
        "id": "xoSjo2v4O-zc",
        "outputId": "2a33c45d-c3b1-4ccf-d68b-ceaa4060a0c2"
      },
      "execution_count": 26,
      "outputs": [
        {
          "output_type": "stream",
          "name": "stdout",
          "text": [
            "Epoch 1/5\n",
            "1125/1125 [==============================] - 49s 35ms/step - loss: 0.7419 - accuracy: 0.7043 - val_loss: 0.5913 - val_accuracy: 0.7659\n",
            "Epoch 2/5\n",
            "1125/1125 [==============================] - 36s 32ms/step - loss: 0.5628 - accuracy: 0.7900 - val_loss: 0.5171 - val_accuracy: 0.8006\n",
            "Epoch 3/5\n",
            "1125/1125 [==============================] - 35s 31ms/step - loss: 0.5414 - accuracy: 0.7971 - val_loss: 0.4793 - val_accuracy: 0.8153\n",
            "Epoch 4/5\n",
            "1125/1125 [==============================] - 37s 33ms/step - loss: 0.5000 - accuracy: 0.8153 - val_loss: 0.4753 - val_accuracy: 0.8188\n",
            "Epoch 5/5\n",
            "1125/1125 [==============================] - 37s 33ms/step - loss: 0.4911 - accuracy: 0.8167 - val_loss: 0.4801 - val_accuracy: 0.8214\n"
          ]
        }
      ]
    },
    {
      "cell_type": "code",
      "source": [
        "# predict with model 1\n",
        "pred_1 = model_1.predict(validation_sentences)\n",
        "pred_1 = tf.argmax(pred_1, axis=1)\n",
        "# observe model 1's performance\n",
        "calculate_result(pred_1, validation_labels_encoded)"
      ],
      "metadata": {
        "colab": {
          "base_uri": "https://localhost:8080/"
        },
        "id": "Qvk7Hf-g0bFk",
        "outputId": "e67d2d37-df76-4dfa-9e3d-c9fdd779d356"
      },
      "execution_count": 27,
      "outputs": [
        {
          "output_type": "execute_result",
          "data": {
            "text/plain": [
              "{'accuracy': 82.01045942009797,\n",
              " 'f1': 0.822601777290057,\n",
              " 'precision': 0.830043764482926,\n",
              " 'recall': 0.8201045942009797}"
            ]
          },
          "metadata": {},
          "execution_count": 27
        }
      ]
    },
    {
      "cell_type": "code",
      "source": [
        "# create model_2 as LSTM\n",
        "inputs = layers.Input(shape=(1,), dtype=tf.string)\n",
        "# vectorizing and embedding layers\n",
        "o = text_vectorization_layer(inputs)\n",
        "o = token_embedding_layer(o)\n",
        "# LSTM structure\n",
        "o = layers.LSTM(128)(o)\n",
        "# output layers\n",
        "outputs = layers.Dense(num_labels, activation=\"softmax\")(o)\n",
        "\n",
        "# create model\n",
        "model_2 = tf.keras.Model(inputs, outputs)\n",
        "\n",
        "# compile the model\n",
        "model_2.compile(optimizer=tf.keras.optimizers.Adam(),\n",
        "                loss=tf.keras.losses.categorical_crossentropy,\n",
        "                metrics=[\"accuracy\"])\n",
        "\n",
        "# fit the model\n",
        "hist_2 = fit_model(model_2)"
      ],
      "metadata": {
        "colab": {
          "base_uri": "https://localhost:8080/"
        },
        "id": "hGY94Mm_1k5k",
        "outputId": "4fbdadfe-a7f3-463b-de5a-035392f1faab"
      },
      "execution_count": 28,
      "outputs": [
        {
          "output_type": "stream",
          "name": "stdout",
          "text": [
            "Epoch 1/5\n",
            "1125/1125 [==============================] - 46s 36ms/step - loss: 0.5489 - accuracy: 0.7992 - val_loss: 0.5557 - val_accuracy: 0.7940\n",
            "Epoch 2/5\n",
            "1125/1125 [==============================] - 45s 40ms/step - loss: 0.4548 - accuracy: 0.8379 - val_loss: 0.5065 - val_accuracy: 0.8151\n",
            "Epoch 3/5\n",
            "1125/1125 [==============================] - 39s 34ms/step - loss: 0.4346 - accuracy: 0.8444 - val_loss: 0.4937 - val_accuracy: 0.8146\n",
            "Epoch 4/5\n",
            "1125/1125 [==============================] - 38s 34ms/step - loss: 0.4008 - accuracy: 0.8581 - val_loss: 0.5039 - val_accuracy: 0.8153\n",
            "Epoch 5/5\n",
            "1125/1125 [==============================] - 38s 34ms/step - loss: 0.3956 - accuracy: 0.8583 - val_loss: 0.5148 - val_accuracy: 0.8188\n"
          ]
        }
      ]
    },
    {
      "cell_type": "code",
      "source": [
        "# predict the model\n",
        "pred_2 = model_2.predict(validation_sentences)\n",
        "pred_2 = tf.argmax(pred_2, axis=1)\n",
        "\n",
        "# observe model's performance\n",
        "calculate_result(pred_2, validation_labels_encoded)"
      ],
      "metadata": {
        "colab": {
          "base_uri": "https://localhost:8080/"
        },
        "id": "jwW48WTq67vd",
        "outputId": "cf7e7ff8-a99c-4d5d-f5e9-eb4533533b0d"
      },
      "execution_count": 29,
      "outputs": [
        {
          "output_type": "execute_result",
          "data": {
            "text/plain": [
              "{'accuracy': 81.55368727657884,\n",
              " 'f1': 0.8180663131658061,\n",
              " 'precision': 0.8243390851153358,\n",
              " 'recall': 0.8155368727657885}"
            ]
          },
          "metadata": {},
          "execution_count": 29
        }
      ]
    },
    {
      "cell_type": "code",
      "source": [
        "# create model 3 as hybrid character / sentence embeddings\n",
        "# setup sentence/token model\n",
        "sentence_inputs = layers.Input(shape=[], dtype=tf.string, name=\"sentence_input\") \n",
        "sentence_token = text_vectorization_layer(sentence_inputs)\n",
        "sentence_embedding = token_embedding_layer(sentence_token)\n",
        "sentence_gru = layers.GRU(128)(sentence_embedding)\n",
        "sentence_outputs = layers.Dense(num_labels, activation=\"tanh\", name=\"sentence_output\")(sentence_gru)\n",
        "sentence_model = tf.keras.Model(sentence_inputs, sentence_outputs)\n",
        "\n",
        "# setup character model\n",
        "character_inputs = layers.Input(shape=(1,), dtype=tf.string, name=\"character_input\")\n",
        "character_token = character_vectorization_layer(character_inputs)\n",
        "character_embedding = character_embedding_layer(character_token)\n",
        "character_gru = layers.GRU(128)(character_embedding)\n",
        "character_outputs = layers.Dense(num_labels, activation=\"tanh\", name=\"character_output\")(character_gru)\n",
        "character_model = tf.keras.Model(character_inputs, character_outputs)\n",
        "\n",
        "# concatenate outputs\n",
        "sentence_char_concat = layers.Concatenate(name=\"sentence_char_concat\")([sentence_model.output, character_model.output]) # has to be with model.outputs\n",
        "\n",
        "# create output layers and add dropouts for overfitting\n",
        "combined_dropout = layers.Dropout(0.5)(sentence_char_concat)\n",
        "combined_dense = layers.Dense(64, activation=\"tanh\")(combined_dropout)\n",
        "combined_dropout = layers.Dropout(0.5)(combined_dense)\n",
        "output_layer_combined = layers.Dense(num_labels, activation=\"softmax\")(combined_dropout)\n",
        "\n",
        "# construct hybrid model\n",
        "model_4 = tf.keras.Model(inputs=[sentence_model.input, character_model.input], outputs=output_layer_combined)\n",
        "\n",
        "# compile the model\n",
        "model_4.compile(optimizer=tf.keras.optimizers.Adam(),\n",
        "                loss=tf.keras.losses.categorical_crossentropy,\n",
        "                metrics=[\"accuracy\"])\n",
        "\n",
        "# fit the model\n",
        "hist_4 = model_4.fit(train_dataset_hybrid, epochs=5, steps_per_epoch=int(0.2*len(train_dataset_hybrid)),\n",
        "                     validation_data=validation_dataset_hybrid, validation_steps=int(0.2*len(validation_dataset_hybrid)))\n"
      ],
      "metadata": {
        "id": "J1sAwx1a7mrL",
        "colab": {
          "base_uri": "https://localhost:8080/"
        },
        "outputId": "682974ad-b62d-4f4b-e5ba-9d26a28be6ad"
      },
      "execution_count": 30,
      "outputs": [
        {
          "output_type": "stream",
          "name": "stdout",
          "text": [
            "Epoch 1/5\n",
            "1125/1125 [==============================] - 139s 115ms/step - loss: 0.8382 - accuracy: 0.6677 - val_loss: 0.5730 - val_accuracy: 0.7725\n",
            "Epoch 2/5\n",
            "1125/1125 [==============================] - 128s 114ms/step - loss: 0.6758 - accuracy: 0.7304 - val_loss: 0.5385 - val_accuracy: 0.7994\n",
            "Epoch 3/5\n",
            "1125/1125 [==============================] - 117s 104ms/step - loss: 0.6367 - accuracy: 0.7462 - val_loss: 0.5381 - val_accuracy: 0.8067\n",
            "Epoch 4/5\n",
            "1125/1125 [==============================] - 131s 116ms/step - loss: 0.5976 - accuracy: 0.7606 - val_loss: 0.5483 - val_accuracy: 0.8099\n",
            "Epoch 5/5\n",
            "1125/1125 [==============================] - 129s 114ms/step - loss: 0.5811 - accuracy: 0.7716 - val_loss: 0.5781 - val_accuracy: 0.8052\n"
          ]
        }
      ]
    },
    {
      "cell_type": "code",
      "source": [
        "# predict the model\n",
        "pred_4 = model_4.predict(validation_dataset_hybrid)\n",
        "pred_4 = tf.argmax(pred_4, axis=1)\n",
        "\n",
        "# observe model's performance\n",
        "calculate_result(pred_4, validation_labels_encoded)"
      ],
      "metadata": {
        "colab": {
          "base_uri": "https://localhost:8080/"
        },
        "id": "vBshkwm51bjN",
        "outputId": "ae5a52c6-b6c9-49fc-9c81-1c1ed2442800"
      },
      "execution_count": 31,
      "outputs": [
        {
          "output_type": "execute_result",
          "data": {
            "text/plain": [
              "{'accuracy': 80.21978021978022,\n",
              " 'f1': 0.8058392533750133,\n",
              " 'precision': 0.8159697421599741,\n",
              " 'recall': 0.8021978021978022}"
            ]
          },
          "metadata": {},
          "execution_count": 31
        }
      ]
    },
    {
      "cell_type": "code",
      "source": [
        "# create model 5 as hybrid sentence / index\n",
        "# setup sentence/token model\n",
        "sentence_inputs = layers.Input(shape=[], dtype=tf.string, name=\"sentence_input\") \n",
        "sentence_token = text_vectorization_layer(sentence_inputs)\n",
        "sentence_embedding = token_embedding_layer(sentence_token)\n",
        "sentence_gru = layers.GRU(128)(sentence_embedding)\n",
        "sentence_outputs = layers.Dense(num_labels, activation=\"tanh\", name=\"sentence_output\")(sentence_gru)\n",
        "sentence_model = tf.keras.Model(sentence_inputs, sentence_outputs)\n",
        "\n",
        "# setup index model\n",
        "index_inputs = layers.Input(shape=(18,), dtype=tf.int64, name=\"index_input\")\n",
        "index_hidden = layers.Dense(32, activation=\"tanh\")(index_inputs)\n",
        "index_outputs = layers.Dense(32, activation=\"softmax\", name=\"index_output\")(index_hidden)\n",
        "index_model = tf.keras.Model(index_inputs, index_outputs)\n",
        "\n",
        "# setup total model\n",
        "total_inputs = layers.Input(shape=(18,), dtype=tf.int64, name=\"total_input\")\n",
        "total_hidden = layers.Dense(32, activation=\"tanh\")(total_inputs)\n",
        "total_outputs = layers.Dense(32, activation=\"softmax\", name=\"total_output\")(total_hidden)\n",
        "total_model = tf.keras.Model(total_inputs, total_outputs)\n",
        "\n",
        "# combine total and index \n",
        "index_total_concat = layers.Concatenate(name=\"index_total_concat\")([index_model.output, total_model.output])\n",
        "\n",
        "# dropout to prevent overfitting\n",
        "d = layers.Dense(128, activation=\"tanh\")(index_total_concat)\n",
        "d = layers.Dropout(0.5)(d)\n",
        "\n",
        "# combine sentence and concated lines\n",
        "hybrid_layer = layers.Concatenate(name=\"index_total_sentence_concat\")([d, sentence_model.output])\n",
        "\n",
        "# create last hybrid output\n",
        "hybrid_output = layers.Dense(num_labels, activation=\"softmax\", name=\"index_total_sentence_output\")(hybrid_layer)\n",
        "\n",
        "# create model 5\n",
        "model_5 = tf.keras.Model(inputs=[index_model.input, total_model.input, sentence_model.input], outputs=hybrid_output, name=\"index_total_sentence_model\")\n",
        "\n",
        "# compile model \n",
        "model_5.compile(loss=tf.keras.losses.categorical_crossentropy,\n",
        "                optimizer=tf.keras.optimizers.Adam(), metrics=[\"accuracy\"])\n",
        "\n",
        "# fit the model\n",
        "hist_5 = model_5.fit(train_tribrid_dataset, epochs=5, steps_per_epoch=int(0.2*len(train_tribrid_dataset)),\n",
        "                     validation_data=validation_tribrid_dataset, validation_steps=int(0.2*len(validation_tribrid_dataset)))"
      ],
      "metadata": {
        "colab": {
          "base_uri": "https://localhost:8080/"
        },
        "id": "IcblQo8S37e9",
        "outputId": "4985d144-cdc3-4966-c5ad-9b5e599555ef"
      },
      "execution_count": 32,
      "outputs": [
        {
          "output_type": "stream",
          "name": "stdout",
          "text": [
            "Epoch 1/5\n",
            "1125/1125 [==============================] - 49s 39ms/step - loss: 0.5584 - accuracy: 0.8038 - val_loss: 0.3486 - val_accuracy: 0.8752\n",
            "Epoch 2/5\n",
            "1125/1125 [==============================] - 56s 50ms/step - loss: 0.3311 - accuracy: 0.8767 - val_loss: 0.3265 - val_accuracy: 0.8813\n",
            "Epoch 3/5\n",
            "1125/1125 [==============================] - 44s 39ms/step - loss: 0.2898 - accuracy: 0.8982 - val_loss: 0.3180 - val_accuracy: 0.8849\n",
            "Epoch 4/5\n",
            "1125/1125 [==============================] - 45s 40ms/step - loss: 0.2452 - accuracy: 0.9186 - val_loss: 0.3196 - val_accuracy: 0.8835\n",
            "Epoch 5/5\n",
            "1125/1125 [==============================] - 44s 39ms/step - loss: 0.2297 - accuracy: 0.9224 - val_loss: 0.3466 - val_accuracy: 0.8734\n"
          ]
        }
      ]
    },
    {
      "cell_type": "code",
      "source": [
        "# add learning rate lowering callback\n",
        "reduce_lr = tf.keras.callbacks.ReduceLROnPlateau(monitor=\"val_loss\", factor=0.1, patience=1, verbose=1, mode=\"min\")\n",
        "# add early stopping callback\n",
        "early_stop = tf.keras.callbacks.EarlyStopping(monitor=\"val_loss\", patience=0, mode=\"min\")\n",
        "# redo the model and add callback\n",
        "# setup sentence/token model\n",
        "sentence_inputs = layers.Input(shape=[], dtype=tf.string, name=\"sentence_input\") \n",
        "sentence_token = text_vectorization_layer(sentence_inputs)\n",
        "sentence_embedding = token_embedding_layer(sentence_token)\n",
        "sentence_gru = layers.GRU(128)(sentence_embedding)\n",
        "sentence_outputs = layers.Dense(num_labels, activation=\"tanh\", name=\"sentence_output\")(sentence_gru)\n",
        "sentence_model = tf.keras.Model(sentence_inputs, sentence_outputs)\n",
        "\n",
        "# setup index model\n",
        "index_inputs = layers.Input(shape=(18,), dtype=tf.int64, name=\"index_input\")\n",
        "index_hidden = layers.Dense(32, activation=\"tanh\")(index_inputs)\n",
        "index_outputs = layers.Dense(32, activation=\"softmax\", name=\"index_output\")(index_hidden)\n",
        "index_model = tf.keras.Model(index_inputs, index_outputs)\n",
        "\n",
        "# setup total model\n",
        "total_inputs = layers.Input(shape=(18,), dtype=tf.int64, name=\"total_input\")\n",
        "total_hidden = layers.Dense(32, activation=\"tanh\")(total_inputs)\n",
        "total_outputs = layers.Dense(32, activation=\"softmax\", name=\"total_output\")(total_hidden)\n",
        "total_model = tf.keras.Model(total_inputs, total_outputs)\n",
        "\n",
        "# combine total and index \n",
        "index_total_concat = layers.Concatenate(name=\"index_total_concat\")([index_model.output, total_model.output])\n",
        "\n",
        "# dropout to prevent overfitting\n",
        "d = layers.Dense(128, activation=\"tanh\")(index_total_concat)\n",
        "d = layers.Dropout(0.5)(d)\n",
        "\n",
        "# combine sentence and concated lines\n",
        "hybrid_layer = layers.Concatenate(name=\"index_total_sentence_concat\")([d, sentence_model.output])\n",
        "\n",
        "# create last hybrid output\n",
        "hybrid_output = layers.Dense(num_labels, activation=\"softmax\", name=\"index_total_sentence_output\")(hybrid_layer)\n",
        "\n",
        "# create model 5\n",
        "model_6 = tf.keras.Model(inputs=[index_model.input, total_model.input, sentence_model.input], outputs=hybrid_output, name=\"index_total_sentence_model\")\n",
        "\n",
        "# compile model \n",
        "model_6.compile(loss=tf.keras.losses.categorical_crossentropy,\n",
        "                optimizer=tf.keras.optimizers.Adam(), metrics=[\"accuracy\"])\n",
        "\n",
        "# fit the model\n",
        "hist_5 = model_6.fit(train_tribrid_dataset, epochs=25, steps_per_epoch=int(0.2*len(train_tribrid_dataset)),\n",
        "                     validation_data=validation_tribrid_dataset, validation_steps=int(0.2*len(validation_tribrid_dataset)),\n",
        "                     callbacks=[reduce_lr, early_stop])"
      ],
      "metadata": {
        "colab": {
          "base_uri": "https://localhost:8080/"
        },
        "id": "4H3i8MRGe_7Z",
        "outputId": "d48a6089-8a27-43ad-ccfc-2479f680d5ac"
      },
      "execution_count": 33,
      "outputs": [
        {
          "output_type": "stream",
          "name": "stdout",
          "text": [
            "Epoch 1/25\n",
            "1125/1125 [==============================] - 49s 40ms/step - loss: 0.5388 - accuracy: 0.8141 - val_loss: 0.3522 - val_accuracy: 0.8584 - lr: 0.0010\n",
            "Epoch 2/25\n",
            "1125/1125 [==============================] - 45s 40ms/step - loss: 0.2999 - accuracy: 0.8896 - val_loss: 0.3259 - val_accuracy: 0.8851 - lr: 0.0010\n"
          ]
        }
      ]
    },
    {
      "cell_type": "code",
      "source": [
        "r = model_1.predict([\"Participants ' perceptions of their quality of life and level of coercion were about the same.\"])\n",
        "r \n",
        "r\n"
      ],
      "metadata": {
        "colab": {
          "base_uri": "https://localhost:8080/"
        },
        "id": "y5w1WlzIaVkp",
        "outputId": "70f4f83c-4e13-4bac-9cc2-05242961fc60"
      },
      "execution_count": 44,
      "outputs": [
        {
          "output_type": "execute_result",
          "data": {
            "text/plain": [
              "array([[2.8406357e-04, 7.3077995e-03, 1.2037772e-01, 1.2795276e-04,\n",
              "        8.7190253e-01]], dtype=float32)"
            ]
          },
          "metadata": {},
          "execution_count": 44
        }
      ]
    }
  ]
}